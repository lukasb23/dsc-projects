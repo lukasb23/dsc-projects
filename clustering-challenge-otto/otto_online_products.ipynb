{
 "cells": [
  {
   "cell_type": "markdown",
   "metadata": {},
   "source": [
    "## Unsupervised Learning\n",
    "\n",
    "Data from Otto Product Classification Challenge <br>\n",
    "https://www.kaggle.com/c/otto-group-product-classification-challenge/data <br> <br> \n",
    "**Dataset Description:** Each row corresponds to a single product. There are a total of 93 numerical features, which represent counts of different events. All features have been obfuscated and will not be defined any further. [...] The products for the training and testing sets are selected randomly.\n",
    "\n",
    "We know that there are 9 product categories, but we'll neglect this information to simulate an unsupervised learning problem."
   ]
  },
  {
   "cell_type": "markdown",
   "metadata": {},
   "source": [
    "### Data Fetching"
   ]
  },
  {
   "cell_type": "code",
   "execution_count": 197,
   "metadata": {},
   "outputs": [
    {
     "name": "stdout",
     "output_type": "stream",
     "text": [
      "(61878, 95)\n"
     ]
    },
    {
     "data": {
      "text/html": [
       "<div>\n",
       "<style scoped>\n",
       "    .dataframe tbody tr th:only-of-type {\n",
       "        vertical-align: middle;\n",
       "    }\n",
       "\n",
       "    .dataframe tbody tr th {\n",
       "        vertical-align: top;\n",
       "    }\n",
       "\n",
       "    .dataframe thead th {\n",
       "        text-align: right;\n",
       "    }\n",
       "</style>\n",
       "<table border=\"1\" class=\"dataframe\">\n",
       "  <thead>\n",
       "    <tr style=\"text-align: right;\">\n",
       "      <th></th>\n",
       "      <th>id</th>\n",
       "      <th>feat_1</th>\n",
       "      <th>feat_2</th>\n",
       "      <th>feat_3</th>\n",
       "      <th>feat_4</th>\n",
       "      <th>feat_5</th>\n",
       "      <th>feat_6</th>\n",
       "      <th>feat_7</th>\n",
       "      <th>feat_8</th>\n",
       "      <th>feat_9</th>\n",
       "      <th>...</th>\n",
       "      <th>feat_85</th>\n",
       "      <th>feat_86</th>\n",
       "      <th>feat_87</th>\n",
       "      <th>feat_88</th>\n",
       "      <th>feat_89</th>\n",
       "      <th>feat_90</th>\n",
       "      <th>feat_91</th>\n",
       "      <th>feat_92</th>\n",
       "      <th>feat_93</th>\n",
       "      <th>target</th>\n",
       "    </tr>\n",
       "  </thead>\n",
       "  <tbody>\n",
       "    <tr>\n",
       "      <th>0</th>\n",
       "      <td>1</td>\n",
       "      <td>1</td>\n",
       "      <td>0</td>\n",
       "      <td>0</td>\n",
       "      <td>0</td>\n",
       "      <td>0</td>\n",
       "      <td>0</td>\n",
       "      <td>0</td>\n",
       "      <td>0</td>\n",
       "      <td>0</td>\n",
       "      <td>...</td>\n",
       "      <td>1</td>\n",
       "      <td>0</td>\n",
       "      <td>0</td>\n",
       "      <td>0</td>\n",
       "      <td>0</td>\n",
       "      <td>0</td>\n",
       "      <td>0</td>\n",
       "      <td>0</td>\n",
       "      <td>0</td>\n",
       "      <td>Class_1</td>\n",
       "    </tr>\n",
       "    <tr>\n",
       "      <th>1</th>\n",
       "      <td>2</td>\n",
       "      <td>0</td>\n",
       "      <td>0</td>\n",
       "      <td>0</td>\n",
       "      <td>0</td>\n",
       "      <td>0</td>\n",
       "      <td>0</td>\n",
       "      <td>0</td>\n",
       "      <td>1</td>\n",
       "      <td>0</td>\n",
       "      <td>...</td>\n",
       "      <td>0</td>\n",
       "      <td>0</td>\n",
       "      <td>0</td>\n",
       "      <td>0</td>\n",
       "      <td>0</td>\n",
       "      <td>0</td>\n",
       "      <td>0</td>\n",
       "      <td>0</td>\n",
       "      <td>0</td>\n",
       "      <td>Class_1</td>\n",
       "    </tr>\n",
       "    <tr>\n",
       "      <th>2</th>\n",
       "      <td>3</td>\n",
       "      <td>0</td>\n",
       "      <td>0</td>\n",
       "      <td>0</td>\n",
       "      <td>0</td>\n",
       "      <td>0</td>\n",
       "      <td>0</td>\n",
       "      <td>0</td>\n",
       "      <td>1</td>\n",
       "      <td>0</td>\n",
       "      <td>...</td>\n",
       "      <td>0</td>\n",
       "      <td>0</td>\n",
       "      <td>0</td>\n",
       "      <td>0</td>\n",
       "      <td>0</td>\n",
       "      <td>0</td>\n",
       "      <td>0</td>\n",
       "      <td>0</td>\n",
       "      <td>0</td>\n",
       "      <td>Class_1</td>\n",
       "    </tr>\n",
       "    <tr>\n",
       "      <th>3</th>\n",
       "      <td>4</td>\n",
       "      <td>1</td>\n",
       "      <td>0</td>\n",
       "      <td>0</td>\n",
       "      <td>1</td>\n",
       "      <td>6</td>\n",
       "      <td>1</td>\n",
       "      <td>5</td>\n",
       "      <td>0</td>\n",
       "      <td>0</td>\n",
       "      <td>...</td>\n",
       "      <td>0</td>\n",
       "      <td>1</td>\n",
       "      <td>2</td>\n",
       "      <td>0</td>\n",
       "      <td>0</td>\n",
       "      <td>0</td>\n",
       "      <td>0</td>\n",
       "      <td>0</td>\n",
       "      <td>0</td>\n",
       "      <td>Class_1</td>\n",
       "    </tr>\n",
       "    <tr>\n",
       "      <th>4</th>\n",
       "      <td>5</td>\n",
       "      <td>0</td>\n",
       "      <td>0</td>\n",
       "      <td>0</td>\n",
       "      <td>0</td>\n",
       "      <td>0</td>\n",
       "      <td>0</td>\n",
       "      <td>0</td>\n",
       "      <td>0</td>\n",
       "      <td>0</td>\n",
       "      <td>...</td>\n",
       "      <td>1</td>\n",
       "      <td>0</td>\n",
       "      <td>0</td>\n",
       "      <td>0</td>\n",
       "      <td>0</td>\n",
       "      <td>1</td>\n",
       "      <td>0</td>\n",
       "      <td>0</td>\n",
       "      <td>0</td>\n",
       "      <td>Class_1</td>\n",
       "    </tr>\n",
       "  </tbody>\n",
       "</table>\n",
       "<p>5 rows × 95 columns</p>\n",
       "</div>"
      ],
      "text/plain": [
       "   id  feat_1  feat_2  feat_3  feat_4  feat_5  feat_6  feat_7  feat_8  feat_9  \\\n",
       "0   1       1       0       0       0       0       0       0       0       0   \n",
       "1   2       0       0       0       0       0       0       0       1       0   \n",
       "2   3       0       0       0       0       0       0       0       1       0   \n",
       "3   4       1       0       0       1       6       1       5       0       0   \n",
       "4   5       0       0       0       0       0       0       0       0       0   \n",
       "\n",
       "    ...     feat_85  feat_86  feat_87  feat_88  feat_89  feat_90  feat_91  \\\n",
       "0   ...           1        0        0        0        0        0        0   \n",
       "1   ...           0        0        0        0        0        0        0   \n",
       "2   ...           0        0        0        0        0        0        0   \n",
       "3   ...           0        1        2        0        0        0        0   \n",
       "4   ...           1        0        0        0        0        1        0   \n",
       "\n",
       "   feat_92  feat_93   target  \n",
       "0        0        0  Class_1  \n",
       "1        0        0  Class_1  \n",
       "2        0        0  Class_1  \n",
       "3        0        0  Class_1  \n",
       "4        0        0  Class_1  \n",
       "\n",
       "[5 rows x 95 columns]"
      ]
     },
     "execution_count": 197,
     "metadata": {},
     "output_type": "execute_result"
    }
   ],
   "source": [
    "import pandas as pd\n",
    "\n",
    "df = pd.read_csv('data/train.csv')\n",
    "print(df.shape)\n",
    "df.head()"
   ]
  },
  {
   "cell_type": "code",
   "execution_count": 198,
   "metadata": {},
   "outputs": [
    {
     "name": "stdout",
     "output_type": "stream",
     "text": [
      "(61878,)\n",
      "(61878, 93)\n"
     ]
    },
    {
     "data": {
      "text/html": [
       "<div>\n",
       "<style scoped>\n",
       "    .dataframe tbody tr th:only-of-type {\n",
       "        vertical-align: middle;\n",
       "    }\n",
       "\n",
       "    .dataframe tbody tr th {\n",
       "        vertical-align: top;\n",
       "    }\n",
       "\n",
       "    .dataframe thead th {\n",
       "        text-align: right;\n",
       "    }\n",
       "</style>\n",
       "<table border=\"1\" class=\"dataframe\">\n",
       "  <thead>\n",
       "    <tr style=\"text-align: right;\">\n",
       "      <th></th>\n",
       "      <th>feat_1</th>\n",
       "      <th>feat_2</th>\n",
       "      <th>feat_3</th>\n",
       "      <th>feat_4</th>\n",
       "      <th>feat_5</th>\n",
       "      <th>feat_6</th>\n",
       "      <th>feat_7</th>\n",
       "      <th>feat_8</th>\n",
       "      <th>feat_9</th>\n",
       "      <th>feat_10</th>\n",
       "      <th>...</th>\n",
       "      <th>feat_84</th>\n",
       "      <th>feat_85</th>\n",
       "      <th>feat_86</th>\n",
       "      <th>feat_87</th>\n",
       "      <th>feat_88</th>\n",
       "      <th>feat_89</th>\n",
       "      <th>feat_90</th>\n",
       "      <th>feat_91</th>\n",
       "      <th>feat_92</th>\n",
       "      <th>feat_93</th>\n",
       "    </tr>\n",
       "  </thead>\n",
       "  <tbody>\n",
       "    <tr>\n",
       "      <th>0</th>\n",
       "      <td>1</td>\n",
       "      <td>0</td>\n",
       "      <td>0</td>\n",
       "      <td>0</td>\n",
       "      <td>0</td>\n",
       "      <td>0</td>\n",
       "      <td>0</td>\n",
       "      <td>0</td>\n",
       "      <td>0</td>\n",
       "      <td>0</td>\n",
       "      <td>...</td>\n",
       "      <td>0</td>\n",
       "      <td>1</td>\n",
       "      <td>0</td>\n",
       "      <td>0</td>\n",
       "      <td>0</td>\n",
       "      <td>0</td>\n",
       "      <td>0</td>\n",
       "      <td>0</td>\n",
       "      <td>0</td>\n",
       "      <td>0</td>\n",
       "    </tr>\n",
       "  </tbody>\n",
       "</table>\n",
       "<p>1 rows × 93 columns</p>\n",
       "</div>"
      ],
      "text/plain": [
       "   feat_1  feat_2  feat_3  feat_4  feat_5  feat_6  feat_7  feat_8  feat_9  \\\n",
       "0       1       0       0       0       0       0       0       0       0   \n",
       "\n",
       "   feat_10   ...     feat_84  feat_85  feat_86  feat_87  feat_88  feat_89  \\\n",
       "0        0   ...           0        1        0        0        0        0   \n",
       "\n",
       "   feat_90  feat_91  feat_92  feat_93  \n",
       "0        0        0        0        0  \n",
       "\n",
       "[1 rows x 93 columns]"
      ]
     },
     "execution_count": 198,
     "metadata": {},
     "output_type": "execute_result"
    }
   ],
   "source": [
    "#Keep y (targets) for evaluation of clustering \n",
    "y = df.iloc[:,-1:].target\n",
    "print(y.shape)\n",
    "X = df.iloc[:,:-1].drop(['id'], axis=1)\n",
    "print(X.shape)\n",
    "X.head(1)"
   ]
  },
  {
   "cell_type": "code",
   "execution_count": 199,
   "metadata": {},
   "outputs": [
    {
     "data": {
      "text/plain": [
       "Class_2    16122\n",
       "Class_6    14135\n",
       "Class_8     8464\n",
       "Class_3     8004\n",
       "Class_9     4955\n",
       "Class_7     2839\n",
       "Class_5     2739\n",
       "Class_4     2691\n",
       "Class_1     1929\n",
       "Name: target, dtype: int64"
      ]
     },
     "execution_count": 199,
     "metadata": {},
     "output_type": "execute_result"
    }
   ],
   "source": [
    "y.value_counts()"
   ]
  },
  {
   "cell_type": "markdown",
   "metadata": {},
   "source": [
    "<br> \n",
    "### Data Exploration"
   ]
  },
  {
   "cell_type": "code",
   "execution_count": 183,
   "metadata": {},
   "outputs": [
    {
     "data": {
      "text/html": [
       "<div>\n",
       "<style scoped>\n",
       "    .dataframe tbody tr th:only-of-type {\n",
       "        vertical-align: middle;\n",
       "    }\n",
       "\n",
       "    .dataframe tbody tr th {\n",
       "        vertical-align: top;\n",
       "    }\n",
       "\n",
       "    .dataframe thead th {\n",
       "        text-align: right;\n",
       "    }\n",
       "</style>\n",
       "<table border=\"1\" class=\"dataframe\">\n",
       "  <thead>\n",
       "    <tr style=\"text-align: right;\">\n",
       "      <th></th>\n",
       "      <th>feat_1</th>\n",
       "      <th>feat_2</th>\n",
       "      <th>feat_3</th>\n",
       "      <th>feat_4</th>\n",
       "      <th>feat_5</th>\n",
       "      <th>feat_6</th>\n",
       "      <th>feat_7</th>\n",
       "      <th>feat_8</th>\n",
       "      <th>feat_9</th>\n",
       "      <th>feat_10</th>\n",
       "      <th>...</th>\n",
       "      <th>feat_84</th>\n",
       "      <th>feat_85</th>\n",
       "      <th>feat_86</th>\n",
       "      <th>feat_87</th>\n",
       "      <th>feat_88</th>\n",
       "      <th>feat_89</th>\n",
       "      <th>feat_90</th>\n",
       "      <th>feat_91</th>\n",
       "      <th>feat_92</th>\n",
       "      <th>feat_93</th>\n",
       "    </tr>\n",
       "  </thead>\n",
       "  <tbody>\n",
       "  </tbody>\n",
       "</table>\n",
       "<p>0 rows × 93 columns</p>\n",
       "</div>"
      ],
      "text/plain": [
       "Empty DataFrame\n",
       "Columns: [feat_1, feat_2, feat_3, feat_4, feat_5, feat_6, feat_7, feat_8, feat_9, feat_10, feat_11, feat_12, feat_13, feat_14, feat_15, feat_16, feat_17, feat_18, feat_19, feat_20, feat_21, feat_22, feat_23, feat_24, feat_25, feat_26, feat_27, feat_28, feat_29, feat_30, feat_31, feat_32, feat_33, feat_34, feat_35, feat_36, feat_37, feat_38, feat_39, feat_40, feat_41, feat_42, feat_43, feat_44, feat_45, feat_46, feat_47, feat_48, feat_49, feat_50, feat_51, feat_52, feat_53, feat_54, feat_55, feat_56, feat_57, feat_58, feat_59, feat_60, feat_61, feat_62, feat_63, feat_64, feat_65, feat_66, feat_67, feat_68, feat_69, feat_70, feat_71, feat_72, feat_73, feat_74, feat_75, feat_76, feat_77, feat_78, feat_79, feat_80, feat_81, feat_82, feat_83, feat_84, feat_85, feat_86, feat_87, feat_88, feat_89, feat_90, feat_91, feat_92, feat_93]\n",
       "Index: []\n",
       "\n",
       "[0 rows x 93 columns]"
      ]
     },
     "execution_count": 183,
     "metadata": {},
     "output_type": "execute_result"
    }
   ],
   "source": [
    "X[X.isnull().any(axis=1)]"
   ]
  },
  {
   "cell_type": "markdown",
   "metadata": {},
   "source": [
    "No NaN, that's nice."
   ]
  },
  {
   "cell_type": "code",
   "execution_count": 184,
   "metadata": {
    "scrolled": true
   },
   "outputs": [
    {
     "name": "stdout",
     "output_type": "stream",
     "text": [
      "feat_1 (min/max): 0 61  -- max = 0 with count 51483\n",
      "feat_2 (min/max): 0 51  -- max = 0 with count 55018\n",
      "feat_3 (min/max): 0 64  -- max = 0 with count 49295\n",
      "feat_4 (min/max): 0 70  -- max = 0 with count 48448\n",
      "feat_5 (min/max): 0 19  -- max = 0 with count 58907\n",
      "feat_6 (min/max): 0 10  -- max = 0 with count 60710\n",
      "feat_7 (min/max): 0 38  -- max = 0 with count 56443\n",
      "feat_8 (min/max): 0 76  -- max = 0 with count 45312\n",
      "feat_9 (min/max): 0 43  -- max = 0 with count 49836\n",
      "feat_10 (min/max): 0 30  -- max = 0 with count 54195\n",
      "feat_11 (min/max): 0 38  -- max = 0 with count 45043\n",
      "feat_12 (min/max): 0 30  -- max = 0 with count 55342\n",
      "feat_13 (min/max): 0 72  -- max = 0 with count 50430\n",
      "feat_14 (min/max): 0 33  -- max = 0 with count 34542\n",
      "feat_15 (min/max): 0 46  -- max = 0 with count 43770\n",
      "feat_16 (min/max): 0 37  -- max = 0 with count 31649\n",
      "feat_17 (min/max): 0 43  -- max = 0 with count 51748\n",
      "feat_18 (min/max): 0 32  -- max = 0 with count 44037\n",
      "feat_19 (min/max): 0 121  -- max = 0 with count 56122\n",
      "feat_20 (min/max): 0 27  -- max = 0 with count 49044\n",
      "feat_21 (min/max): 0 14  -- max = 0 with count 54544\n",
      "feat_22 (min/max): 0 22  -- max = 0 with count 40873\n",
      "feat_23 (min/max): 0 64  -- max = 0 with count 57470\n",
      "feat_24 (min/max): 0 263  -- max = 0 with count 22077\n",
      "feat_25 (min/max): 0 30  -- max = 0 with count 27295\n",
      "feat_26 (min/max): 0 33  -- max = 0 with count 49180\n",
      "feat_27 (min/max): 0 123  -- max = 0 with count 52827\n",
      "feat_28 (min/max): 0 22  -- max = 0 with count 54009\n",
      "feat_29 (min/max): 0 69  -- max = 0 with count 54521\n",
      "feat_30 (min/max): 0 87  -- max = 0 with count 56951\n",
      "feat_31 (min/max): 0 59  -- max = 0 with count 57339\n",
      "feat_32 (min/max): 0 149  -- max = 0 with count 41962\n",
      "feat_33 (min/max): 0 24  -- max = 0 with count 39783\n",
      "feat_34 (min/max): 0 84  -- max = 0 with count 46172\n",
      "feat_35 (min/max): 0 105  -- max = 0 with count 48050\n",
      "feat_36 (min/max): 0 84  -- max = 0 with count 46355\n",
      "feat_37 (min/max): 0 22  -- max = 0 with count 51480\n",
      "feat_38 (min/max): 0 39  -- max = 0 with count 45783\n",
      "feat_39 (min/max): 0 78  -- max = 0 with count 53604\n",
      "feat_40 (min/max): 0 41  -- max = 0 with count 32593\n",
      "feat_41 (min/max): 0 36  -- max = 0 with count 50713\n",
      "feat_42 (min/max): 0 41  -- max = 0 with count 44327\n",
      "feat_43 (min/max): 0 42  -- max = 0 with count 51611\n",
      "feat_44 (min/max): 0 34  -- max = 0 with count 45082\n",
      "feat_45 (min/max): 0 80  -- max = 0 with count 58021\n",
      "feat_46 (min/max): 0 41  -- max = 0 with count 51921\n",
      "feat_47 (min/max): 0 47  -- max = 0 with count 56688\n",
      "feat_48 (min/max): 0 49  -- max = 0 with count 28174\n",
      "feat_49 (min/max): 0 81  -- max = 0 with count 51571\n",
      "feat_50 (min/max): 0 73  -- max = 0 with count 53492\n",
      "feat_51 (min/max): 0 44  -- max = 0 with count 60159\n",
      "feat_52 (min/max): 0 48  -- max = 0 with count 55740\n",
      "feat_53 (min/max): 0 53  -- max = 0 with count 49735\n",
      "feat_54 (min/max): 0 63  -- max = 0 with count 33571\n",
      "feat_55 (min/max): 0 27  -- max = 0 with count 50509\n",
      "feat_56 (min/max): 0 62  -- max = 0 with count 54672\n",
      "feat_57 (min/max): 0 30  -- max = 0 with count 52655\n",
      "feat_58 (min/max): 0 117  -- max = 0 with count 53542\n",
      "feat_59 (min/max): 0 97  -- max = 0 with count 55082\n",
      "feat_60 (min/max): 0 40  -- max = 0 with count 46458\n",
      "feat_61 (min/max): 0 38  -- max = 0 with count 56075\n",
      "feat_62 (min/max): 0 56  -- max = 0 with count 35383\n",
      "feat_63 (min/max): 0 51  -- max = 0 with count 55853\n",
      "feat_64 (min/max): 0 73  -- max = 0 with count 40077\n",
      "feat_65 (min/max): 0 38  -- max = 0 with count 52706\n",
      "feat_66 (min/max): 0 36  -- max = 0 with count 44352\n",
      "feat_67 (min/max): 0 104  -- max = 0 with count 23930\n",
      "feat_68 (min/max): 0 109  -- max = 0 with count 53144\n",
      "feat_69 (min/max): 0 76  -- max = 0 with count 53174\n",
      "feat_70 (min/max): 0 46  -- max = 0 with count 40241\n",
      "feat_71 (min/max): 0 31  -- max = 0 with count 51493\n",
      "feat_72 (min/max): 0 30  -- max = 0 with count 43995\n",
      "feat_73 (min/max): 0 352  -- max = 0 with count 51527\n",
      "feat_74 (min/max): 0 231  -- max = 0 with count 50047\n",
      "feat_75 (min/max): 0 80  -- max = 0 with count 48568\n",
      "feat_76 (min/max): 0 102  -- max = 0 with count 48487\n",
      "feat_77 (min/max): 0 29  -- max = 0 with count 58354\n",
      "feat_78 (min/max): 0 80  -- max = 0 with count 55574\n",
      "feat_79 (min/max): 0 25  -- max = 0 with count 54697\n",
      "feat_80 (min/max): 0 54  -- max = 0 with count 48565\n",
      "feat_81 (min/max): 0 26  -- max = 0 with count 58695\n",
      "feat_82 (min/max): 0 24  -- max = 0 with count 56442\n",
      "feat_83 (min/max): 0 79  -- max = 0 with count 53668\n",
      "feat_84 (min/max): 0 76  -- max = 0 with count 60455\n",
      "feat_85 (min/max): 0 55  -- max = 0 with count 48914\n",
      "feat_86 (min/max): 0 65  -- max = 0 with count 36516\n",
      "feat_87 (min/max): 0 67  -- max = 0 with count 49859\n",
      "feat_88 (min/max): 0 30  -- max = 0 with count 41844\n",
      "feat_89 (min/max): 0 61  -- max = 0 with count 48248\n",
      "feat_90 (min/max): 0 130  -- max = 0 with count 53542\n",
      "feat_91 (min/max): 0 52  -- max = 0 with count 57030\n",
      "feat_92 (min/max): 0 19  -- max = 0 with count 48286\n",
      "feat_93 (min/max): 0 87  -- max = 0 with count 58132\n"
     ]
    }
   ],
   "source": [
    "for col in X.columns: \n",
    "    vc = X[col].value_counts()\n",
    "    print(col, \"(min/max):\", vc.index.min(), vc.index.max(), \n",
    "          ' -- max = {} with count {}'.format(vc.index[0], vc.iloc[0]))"
   ]
  },
  {
   "cell_type": "markdown",
   "metadata": {},
   "source": [
    "All event columns numerical, no boolean events."
   ]
  },
  {
   "cell_type": "code",
   "execution_count": 6,
   "metadata": {
    "scrolled": true
   },
   "outputs": [
    {
     "data": {
      "image/png": "[encoded data removed]",
      "text/plain": [
       "<matplotlib.figure.Figure at 0x776a34977208>"
      ]
     },
     "metadata": {},
     "output_type": "display_data"
    }
   ],
   "source": [
    "from pandas.plotting import scatter_matrix\n",
    "\n",
    "plot_1_4 = scatter_matrix(X.iloc[:,:5], alpha=0.3, figsize=(9,9))"
   ]
  },
  {
   "cell_type": "markdown",
   "metadata": {},
   "source": [
    "Feat_3 & Feat_4 e.g. show a different, more collinear distribution than the other relationships."
   ]
  },
  {
   "cell_type": "code",
   "execution_count": 154,
   "metadata": {},
   "outputs": [
    {
     "data": {
      "image/png": "[encoded data removed]",
      "text/plain": [
       "<matplotlib.figure.Figure at 0x74d3dc34e8d0>"
      ]
     },
     "metadata": {},
     "output_type": "display_data"
    }
   ],
   "source": [
    "import matplotlib.pyplot as plt \n",
    "%matplotlib inline\n",
    "plt.style.use('ggplot')\n",
    "\n",
    "#Distribution of first 9 dimensions\n",
    "f = plt.figure(figsize=(12,9))\n",
    "f.suptitle('\\n Distribution of first 9 features', fontsize=16)\n",
    "for i,feat in enumerate(X_scaled.columns[:9]): \n",
    "    ax = f.add_subplot(330+(i+1))\n",
    "    ax.hist(X_scaled[feat].values, bins=20, color='grey')"
   ]
  },
  {
   "cell_type": "markdown",
   "metadata": {},
   "source": [
    "<br> \n",
    "### Log-Transform & Scale\n",
    "\n",
    "Clear Exp. of strongly skewed feature distributions. We'll add 1, log-transform and scale afterwards. "
   ]
  },
  {
   "cell_type": "code",
   "execution_count": 200,
   "metadata": {},
   "outputs": [
    {
     "data": {
      "text/html": [
       "<div>\n",
       "<style scoped>\n",
       "    .dataframe tbody tr th:only-of-type {\n",
       "        vertical-align: middle;\n",
       "    }\n",
       "\n",
       "    .dataframe tbody tr th {\n",
       "        vertical-align: top;\n",
       "    }\n",
       "\n",
       "    .dataframe thead th {\n",
       "        text-align: right;\n",
       "    }\n",
       "</style>\n",
       "<table border=\"1\" class=\"dataframe\">\n",
       "  <thead>\n",
       "    <tr style=\"text-align: right;\">\n",
       "      <th></th>\n",
       "      <th>feat_1</th>\n",
       "      <th>feat_2</th>\n",
       "      <th>feat_3</th>\n",
       "      <th>feat_4</th>\n",
       "      <th>feat_5</th>\n",
       "      <th>feat_6</th>\n",
       "      <th>feat_7</th>\n",
       "      <th>feat_8</th>\n",
       "      <th>feat_9</th>\n",
       "      <th>feat_10</th>\n",
       "      <th>...</th>\n",
       "      <th>feat_84</th>\n",
       "      <th>feat_85</th>\n",
       "      <th>feat_86</th>\n",
       "      <th>feat_87</th>\n",
       "      <th>feat_88</th>\n",
       "      <th>feat_89</th>\n",
       "      <th>feat_90</th>\n",
       "      <th>feat_91</th>\n",
       "      <th>feat_92</th>\n",
       "      <th>feat_93</th>\n",
       "    </tr>\n",
       "  </thead>\n",
       "  <tbody>\n",
       "    <tr>\n",
       "      <th>0</th>\n",
       "      <td>2</td>\n",
       "      <td>1</td>\n",
       "      <td>1</td>\n",
       "      <td>1</td>\n",
       "      <td>1</td>\n",
       "      <td>1</td>\n",
       "      <td>1</td>\n",
       "      <td>1</td>\n",
       "      <td>1</td>\n",
       "      <td>1</td>\n",
       "      <td>...</td>\n",
       "      <td>1</td>\n",
       "      <td>2</td>\n",
       "      <td>1</td>\n",
       "      <td>1</td>\n",
       "      <td>1</td>\n",
       "      <td>1</td>\n",
       "      <td>1</td>\n",
       "      <td>1</td>\n",
       "      <td>1</td>\n",
       "      <td>1</td>\n",
       "    </tr>\n",
       "    <tr>\n",
       "      <th>1</th>\n",
       "      <td>1</td>\n",
       "      <td>1</td>\n",
       "      <td>1</td>\n",
       "      <td>1</td>\n",
       "      <td>1</td>\n",
       "      <td>1</td>\n",
       "      <td>1</td>\n",
       "      <td>2</td>\n",
       "      <td>1</td>\n",
       "      <td>1</td>\n",
       "      <td>...</td>\n",
       "      <td>1</td>\n",
       "      <td>1</td>\n",
       "      <td>1</td>\n",
       "      <td>1</td>\n",
       "      <td>1</td>\n",
       "      <td>1</td>\n",
       "      <td>1</td>\n",
       "      <td>1</td>\n",
       "      <td>1</td>\n",
       "      <td>1</td>\n",
       "    </tr>\n",
       "    <tr>\n",
       "      <th>2</th>\n",
       "      <td>1</td>\n",
       "      <td>1</td>\n",
       "      <td>1</td>\n",
       "      <td>1</td>\n",
       "      <td>1</td>\n",
       "      <td>1</td>\n",
       "      <td>1</td>\n",
       "      <td>2</td>\n",
       "      <td>1</td>\n",
       "      <td>1</td>\n",
       "      <td>...</td>\n",
       "      <td>1</td>\n",
       "      <td>1</td>\n",
       "      <td>1</td>\n",
       "      <td>1</td>\n",
       "      <td>1</td>\n",
       "      <td>1</td>\n",
       "      <td>1</td>\n",
       "      <td>1</td>\n",
       "      <td>1</td>\n",
       "      <td>1</td>\n",
       "    </tr>\n",
       "    <tr>\n",
       "      <th>3</th>\n",
       "      <td>2</td>\n",
       "      <td>1</td>\n",
       "      <td>1</td>\n",
       "      <td>2</td>\n",
       "      <td>7</td>\n",
       "      <td>2</td>\n",
       "      <td>6</td>\n",
       "      <td>1</td>\n",
       "      <td>1</td>\n",
       "      <td>2</td>\n",
       "      <td>...</td>\n",
       "      <td>23</td>\n",
       "      <td>1</td>\n",
       "      <td>2</td>\n",
       "      <td>3</td>\n",
       "      <td>1</td>\n",
       "      <td>1</td>\n",
       "      <td>1</td>\n",
       "      <td>1</td>\n",
       "      <td>1</td>\n",
       "      <td>1</td>\n",
       "    </tr>\n",
       "    <tr>\n",
       "      <th>4</th>\n",
       "      <td>1</td>\n",
       "      <td>1</td>\n",
       "      <td>1</td>\n",
       "      <td>1</td>\n",
       "      <td>1</td>\n",
       "      <td>1</td>\n",
       "      <td>1</td>\n",
       "      <td>1</td>\n",
       "      <td>1</td>\n",
       "      <td>1</td>\n",
       "      <td>...</td>\n",
       "      <td>1</td>\n",
       "      <td>2</td>\n",
       "      <td>1</td>\n",
       "      <td>1</td>\n",
       "      <td>1</td>\n",
       "      <td>1</td>\n",
       "      <td>2</td>\n",
       "      <td>1</td>\n",
       "      <td>1</td>\n",
       "      <td>1</td>\n",
       "    </tr>\n",
       "  </tbody>\n",
       "</table>\n",
       "<p>5 rows × 93 columns</p>\n",
       "</div>"
      ],
      "text/plain": [
       "   feat_1  feat_2  feat_3  feat_4  feat_5  feat_6  feat_7  feat_8  feat_9  \\\n",
       "0       2       1       1       1       1       1       1       1       1   \n",
       "1       1       1       1       1       1       1       1       2       1   \n",
       "2       1       1       1       1       1       1       1       2       1   \n",
       "3       2       1       1       2       7       2       6       1       1   \n",
       "4       1       1       1       1       1       1       1       1       1   \n",
       "\n",
       "   feat_10   ...     feat_84  feat_85  feat_86  feat_87  feat_88  feat_89  \\\n",
       "0        1   ...           1        2        1        1        1        1   \n",
       "1        1   ...           1        1        1        1        1        1   \n",
       "2        1   ...           1        1        1        1        1        1   \n",
       "3        2   ...          23        1        2        3        1        1   \n",
       "4        1   ...           1        2        1        1        1        1   \n",
       "\n",
       "   feat_90  feat_91  feat_92  feat_93  \n",
       "0        1        1        1        1  \n",
       "1        1        1        1        1  \n",
       "2        1        1        1        1  \n",
       "3        1        1        1        1  \n",
       "4        2        1        1        1  \n",
       "\n",
       "[5 rows x 93 columns]"
      ]
     },
     "execution_count": 200,
     "metadata": {},
     "output_type": "execute_result"
    }
   ],
   "source": [
    "X = X + 1\n",
    "X.head()"
   ]
  },
  {
   "cell_type": "code",
   "execution_count": 201,
   "metadata": {},
   "outputs": [
    {
     "data": {
      "text/html": [
       "<div>\n",
       "<style scoped>\n",
       "    .dataframe tbody tr th:only-of-type {\n",
       "        vertical-align: middle;\n",
       "    }\n",
       "\n",
       "    .dataframe tbody tr th {\n",
       "        vertical-align: top;\n",
       "    }\n",
       "\n",
       "    .dataframe thead th {\n",
       "        text-align: right;\n",
       "    }\n",
       "</style>\n",
       "<table border=\"1\" class=\"dataframe\">\n",
       "  <thead>\n",
       "    <tr style=\"text-align: right;\">\n",
       "      <th></th>\n",
       "      <th>1</th>\n",
       "      <th>2</th>\n",
       "      <th>3</th>\n",
       "      <th>4</th>\n",
       "      <th>5</th>\n",
       "      <th>6</th>\n",
       "      <th>7</th>\n",
       "      <th>8</th>\n",
       "      <th>9</th>\n",
       "      <th>10</th>\n",
       "      <th>...</th>\n",
       "      <th>84</th>\n",
       "      <th>85</th>\n",
       "      <th>86</th>\n",
       "      <th>87</th>\n",
       "      <th>88</th>\n",
       "      <th>89</th>\n",
       "      <th>90</th>\n",
       "      <th>91</th>\n",
       "      <th>92</th>\n",
       "      <th>93</th>\n",
       "    </tr>\n",
       "  </thead>\n",
       "  <tbody>\n",
       "    <tr>\n",
       "      <th>0</th>\n",
       "      <td>1.098612</td>\n",
       "      <td>0.693147</td>\n",
       "      <td>0.693147</td>\n",
       "      <td>0.693147</td>\n",
       "      <td>0.693147</td>\n",
       "      <td>0.693147</td>\n",
       "      <td>0.693147</td>\n",
       "      <td>0.693147</td>\n",
       "      <td>0.693147</td>\n",
       "      <td>0.693147</td>\n",
       "      <td>...</td>\n",
       "      <td>0.693147</td>\n",
       "      <td>1.098612</td>\n",
       "      <td>0.693147</td>\n",
       "      <td>0.693147</td>\n",
       "      <td>0.693147</td>\n",
       "      <td>0.693147</td>\n",
       "      <td>0.693147</td>\n",
       "      <td>0.693147</td>\n",
       "      <td>0.693147</td>\n",
       "      <td>0.693147</td>\n",
       "    </tr>\n",
       "    <tr>\n",
       "      <th>1</th>\n",
       "      <td>0.693147</td>\n",
       "      <td>0.693147</td>\n",
       "      <td>0.693147</td>\n",
       "      <td>0.693147</td>\n",
       "      <td>0.693147</td>\n",
       "      <td>0.693147</td>\n",
       "      <td>0.693147</td>\n",
       "      <td>1.098612</td>\n",
       "      <td>0.693147</td>\n",
       "      <td>0.693147</td>\n",
       "      <td>...</td>\n",
       "      <td>0.693147</td>\n",
       "      <td>0.693147</td>\n",
       "      <td>0.693147</td>\n",
       "      <td>0.693147</td>\n",
       "      <td>0.693147</td>\n",
       "      <td>0.693147</td>\n",
       "      <td>0.693147</td>\n",
       "      <td>0.693147</td>\n",
       "      <td>0.693147</td>\n",
       "      <td>0.693147</td>\n",
       "    </tr>\n",
       "    <tr>\n",
       "      <th>2</th>\n",
       "      <td>0.693147</td>\n",
       "      <td>0.693147</td>\n",
       "      <td>0.693147</td>\n",
       "      <td>0.693147</td>\n",
       "      <td>0.693147</td>\n",
       "      <td>0.693147</td>\n",
       "      <td>0.693147</td>\n",
       "      <td>1.098612</td>\n",
       "      <td>0.693147</td>\n",
       "      <td>0.693147</td>\n",
       "      <td>...</td>\n",
       "      <td>0.693147</td>\n",
       "      <td>0.693147</td>\n",
       "      <td>0.693147</td>\n",
       "      <td>0.693147</td>\n",
       "      <td>0.693147</td>\n",
       "      <td>0.693147</td>\n",
       "      <td>0.693147</td>\n",
       "      <td>0.693147</td>\n",
       "      <td>0.693147</td>\n",
       "      <td>0.693147</td>\n",
       "    </tr>\n",
       "    <tr>\n",
       "      <th>3</th>\n",
       "      <td>1.098612</td>\n",
       "      <td>0.693147</td>\n",
       "      <td>0.693147</td>\n",
       "      <td>1.098612</td>\n",
       "      <td>2.079442</td>\n",
       "      <td>1.098612</td>\n",
       "      <td>1.945910</td>\n",
       "      <td>0.693147</td>\n",
       "      <td>0.693147</td>\n",
       "      <td>1.098612</td>\n",
       "      <td>...</td>\n",
       "      <td>3.178054</td>\n",
       "      <td>0.693147</td>\n",
       "      <td>1.098612</td>\n",
       "      <td>1.386294</td>\n",
       "      <td>0.693147</td>\n",
       "      <td>0.693147</td>\n",
       "      <td>0.693147</td>\n",
       "      <td>0.693147</td>\n",
       "      <td>0.693147</td>\n",
       "      <td>0.693147</td>\n",
       "    </tr>\n",
       "    <tr>\n",
       "      <th>4</th>\n",
       "      <td>0.693147</td>\n",
       "      <td>0.693147</td>\n",
       "      <td>0.693147</td>\n",
       "      <td>0.693147</td>\n",
       "      <td>0.693147</td>\n",
       "      <td>0.693147</td>\n",
       "      <td>0.693147</td>\n",
       "      <td>0.693147</td>\n",
       "      <td>0.693147</td>\n",
       "      <td>0.693147</td>\n",
       "      <td>...</td>\n",
       "      <td>0.693147</td>\n",
       "      <td>1.098612</td>\n",
       "      <td>0.693147</td>\n",
       "      <td>0.693147</td>\n",
       "      <td>0.693147</td>\n",
       "      <td>0.693147</td>\n",
       "      <td>1.098612</td>\n",
       "      <td>0.693147</td>\n",
       "      <td>0.693147</td>\n",
       "      <td>0.693147</td>\n",
       "    </tr>\n",
       "  </tbody>\n",
       "</table>\n",
       "<p>5 rows × 93 columns</p>\n",
       "</div>"
      ],
      "text/plain": [
       "         1         2         3         4         5         6         7   \\\n",
       "0  1.098612  0.693147  0.693147  0.693147  0.693147  0.693147  0.693147   \n",
       "1  0.693147  0.693147  0.693147  0.693147  0.693147  0.693147  0.693147   \n",
       "2  0.693147  0.693147  0.693147  0.693147  0.693147  0.693147  0.693147   \n",
       "3  1.098612  0.693147  0.693147  1.098612  2.079442  1.098612  1.945910   \n",
       "4  0.693147  0.693147  0.693147  0.693147  0.693147  0.693147  0.693147   \n",
       "\n",
       "         8         9         10    ...           84        85        86  \\\n",
       "0  0.693147  0.693147  0.693147    ...     0.693147  1.098612  0.693147   \n",
       "1  1.098612  0.693147  0.693147    ...     0.693147  0.693147  0.693147   \n",
       "2  1.098612  0.693147  0.693147    ...     0.693147  0.693147  0.693147   \n",
       "3  0.693147  0.693147  1.098612    ...     3.178054  0.693147  1.098612   \n",
       "4  0.693147  0.693147  0.693147    ...     0.693147  1.098612  0.693147   \n",
       "\n",
       "         87        88        89        90        91        92        93  \n",
       "0  0.693147  0.693147  0.693147  0.693147  0.693147  0.693147  0.693147  \n",
       "1  0.693147  0.693147  0.693147  0.693147  0.693147  0.693147  0.693147  \n",
       "2  0.693147  0.693147  0.693147  0.693147  0.693147  0.693147  0.693147  \n",
       "3  1.386294  0.693147  0.693147  0.693147  0.693147  0.693147  0.693147  \n",
       "4  0.693147  0.693147  0.693147  1.098612  0.693147  0.693147  0.693147  \n",
       "\n",
       "[5 rows x 93 columns]"
      ]
     },
     "execution_count": 201,
     "metadata": {},
     "output_type": "execute_result"
    }
   ],
   "source": [
    "import numpy as np\n",
    "from sklearn.preprocessing import FunctionTransformer\n",
    "\n",
    "log_transformer = FunctionTransformer(np.log1p, validate=True)\n",
    "X_log = pd.DataFrame(log_transformer.transform(X), columns=range(1,94))\n",
    "X_log.head()"
   ]
  },
  {
   "cell_type": "code",
   "execution_count": 187,
   "metadata": {},
   "outputs": [
    {
     "data": {
      "image/png": "[encoded data removed]",
      "text/plain": [
       "<matplotlib.figure.Figure at 0x74d3b7b06b70>"
      ]
     },
     "metadata": {},
     "output_type": "display_data"
    }
   ],
   "source": [
    "#Distribution of first 9 dimensions\n",
    "f = plt.figure(figsize=(12,9))\n",
    "f.suptitle('\\n After Log-Transform: Distribution of first 9 features', fontsize=16)\n",
    "for i,feat in enumerate(X_log.columns[:9]): \n",
    "    ax = f.add_subplot(330+(i+1))\n",
    "    ax.hist(X_log[feat].values, bins=20, color='grey')"
   ]
  },
  {
   "cell_type": "code",
   "execution_count": 202,
   "metadata": {},
   "outputs": [
    {
     "name": "stdout",
     "output_type": "stream",
     "text": [
      "93\n"
     ]
    },
    {
     "data": {
      "text/html": [
       "<div>\n",
       "<style scoped>\n",
       "    .dataframe tbody tr th:only-of-type {\n",
       "        vertical-align: middle;\n",
       "    }\n",
       "\n",
       "    .dataframe tbody tr th {\n",
       "        vertical-align: top;\n",
       "    }\n",
       "\n",
       "    .dataframe thead th {\n",
       "        text-align: right;\n",
       "    }\n",
       "</style>\n",
       "<table border=\"1\" class=\"dataframe\">\n",
       "  <thead>\n",
       "    <tr style=\"text-align: right;\">\n",
       "      <th></th>\n",
       "      <th>0</th>\n",
       "      <th>1</th>\n",
       "      <th>2</th>\n",
       "      <th>3</th>\n",
       "      <th>4</th>\n",
       "      <th>5</th>\n",
       "      <th>6</th>\n",
       "      <th>7</th>\n",
       "      <th>8</th>\n",
       "      <th>9</th>\n",
       "      <th>...</th>\n",
       "      <th>83</th>\n",
       "      <th>84</th>\n",
       "      <th>85</th>\n",
       "      <th>86</th>\n",
       "      <th>87</th>\n",
       "      <th>88</th>\n",
       "      <th>89</th>\n",
       "      <th>90</th>\n",
       "      <th>91</th>\n",
       "      <th>92</th>\n",
       "    </tr>\n",
       "  </thead>\n",
       "  <tbody>\n",
       "    <tr>\n",
       "      <th>0</th>\n",
       "      <td>0.999335</td>\n",
       "      <td>-0.294643</td>\n",
       "      <td>-0.407091</td>\n",
       "      <td>-0.42486</td>\n",
       "      <td>-0.200061</td>\n",
       "      <td>-0.129807</td>\n",
       "      <td>-0.261394</td>\n",
       "      <td>-0.484996</td>\n",
       "      <td>-0.381183</td>\n",
       "      <td>-0.320835</td>\n",
       "      <td>...</td>\n",
       "      <td>-0.11814</td>\n",
       "      <td>0.759440</td>\n",
       "      <td>-0.655659</td>\n",
       "      <td>-0.406819</td>\n",
       "      <td>-0.559067</td>\n",
       "      <td>-0.446361</td>\n",
       "      <td>-0.300094</td>\n",
       "      <td>-0.221989</td>\n",
       "      <td>-0.465934</td>\n",
       "      <td>-0.209284</td>\n",
       "    </tr>\n",
       "    <tr>\n",
       "      <th>1</th>\n",
       "      <td>-0.378035</td>\n",
       "      <td>-0.294643</td>\n",
       "      <td>-0.407091</td>\n",
       "      <td>-0.42486</td>\n",
       "      <td>-0.200061</td>\n",
       "      <td>-0.129807</td>\n",
       "      <td>-0.261394</td>\n",
       "      <td>0.608691</td>\n",
       "      <td>-0.381183</td>\n",
       "      <td>-0.320835</td>\n",
       "      <td>...</td>\n",
       "      <td>-0.11814</td>\n",
       "      <td>-0.419639</td>\n",
       "      <td>-0.655659</td>\n",
       "      <td>-0.406819</td>\n",
       "      <td>-0.559067</td>\n",
       "      <td>-0.446361</td>\n",
       "      <td>-0.300094</td>\n",
       "      <td>-0.221989</td>\n",
       "      <td>-0.465934</td>\n",
       "      <td>-0.209284</td>\n",
       "    </tr>\n",
       "  </tbody>\n",
       "</table>\n",
       "<p>2 rows × 93 columns</p>\n",
       "</div>"
      ],
      "text/plain": [
       "         0         1         2        3         4         5         6   \\\n",
       "0  0.999335 -0.294643 -0.407091 -0.42486 -0.200061 -0.129807 -0.261394   \n",
       "1 -0.378035 -0.294643 -0.407091 -0.42486 -0.200061 -0.129807 -0.261394   \n",
       "\n",
       "         7         8         9     ...          83        84        85  \\\n",
       "0 -0.484996 -0.381183 -0.320835    ...    -0.11814  0.759440 -0.655659   \n",
       "1  0.608691 -0.381183 -0.320835    ...    -0.11814 -0.419639 -0.655659   \n",
       "\n",
       "         86        87        88        89        90        91        92  \n",
       "0 -0.406819 -0.559067 -0.446361 -0.300094 -0.221989 -0.465934 -0.209284  \n",
       "1 -0.406819 -0.559067 -0.446361 -0.300094 -0.221989 -0.465934 -0.209284  \n",
       "\n",
       "[2 rows x 93 columns]"
      ]
     },
     "execution_count": 202,
     "metadata": {},
     "output_type": "execute_result"
    }
   ],
   "source": [
    "#Scale X\n",
    "from sklearn.preprocessing import StandardScaler\n",
    "\n",
    "X_scaled = pd.DataFrame(StandardScaler().fit_transform(X_log))\n",
    "print(len(X_scaled.iloc[0]))\n",
    "X_scaled.head(2)"
   ]
  },
  {
   "cell_type": "code",
   "execution_count": 189,
   "metadata": {},
   "outputs": [
    {
     "data": {
      "image/png": "[encoded data removed]",
      "text/plain": [
       "<matplotlib.figure.Figure at 0x74d3b746f6d8>"
      ]
     },
     "metadata": {},
     "output_type": "display_data"
    }
   ],
   "source": [
    "#Distribution of first 9 dimensions\n",
    "f = plt.figure(figsize=(12,9))\n",
    "f.suptitle('\\n After Log-Transform & Scale: Distribution of first 9 features', fontsize=16)\n",
    "for i,feat in enumerate(X_scaled.columns[:9]): \n",
    "    ax = f.add_subplot(330+(i+1))\n",
    "    ax.hist(X_scaled[feat].values, bins=20, color='grey')"
   ]
  },
  {
   "cell_type": "markdown",
   "metadata": {},
   "source": [
    "<br> \n",
    "### A case for dimensionality reduction?"
   ]
  },
  {
   "cell_type": "markdown",
   "metadata": {},
   "source": [
    "** Why reducing dimensions?** \n",
    "\n",
    "\"There are issues associated with high-dimensional data (albeit most people would consider 30 to be just \"medium\" dimensionality). The most obvious one is that the notion of distance itself is often rather meaningless. Say, your first variable is \"shoe size\", the second is \"age\". How can you expect an euclidean distance function to perform a meaningful distance computation?\"\n",
    "\n",
    "See amongst others: <br>\n",
    "https://en.wikipedia.org/wiki/Clustering_high-dimensional_data <br>\n",
    "https://stats.stackexchange.com/questions/23059/what-is-maximum-number-of-variables-that-we-can-use-to-run-a-cluster-analysis"
   ]
  },
  {
   "cell_type": "markdown",
   "metadata": {},
   "source": [
    "#### PCA"
   ]
  },
  {
   "cell_type": "code",
   "execution_count": 203,
   "metadata": {},
   "outputs": [
    {
     "data": {
      "text/html": [
       "<div>\n",
       "<style scoped>\n",
       "    .dataframe tbody tr th:only-of-type {\n",
       "        vertical-align: middle;\n",
       "    }\n",
       "\n",
       "    .dataframe tbody tr th {\n",
       "        vertical-align: top;\n",
       "    }\n",
       "\n",
       "    .dataframe thead th {\n",
       "        text-align: right;\n",
       "    }\n",
       "</style>\n",
       "<table border=\"1\" class=\"dataframe\">\n",
       "  <thead>\n",
       "    <tr style=\"text-align: right;\">\n",
       "      <th></th>\n",
       "      <th>0</th>\n",
       "      <th>1</th>\n",
       "      <th>2</th>\n",
       "      <th>3</th>\n",
       "      <th>4</th>\n",
       "      <th>5</th>\n",
       "      <th>6</th>\n",
       "      <th>7</th>\n",
       "      <th>8</th>\n",
       "      <th>9</th>\n",
       "      <th>...</th>\n",
       "      <th>67</th>\n",
       "      <th>68</th>\n",
       "      <th>69</th>\n",
       "      <th>70</th>\n",
       "      <th>71</th>\n",
       "      <th>72</th>\n",
       "      <th>73</th>\n",
       "      <th>74</th>\n",
       "      <th>75</th>\n",
       "      <th>76</th>\n",
       "    </tr>\n",
       "  </thead>\n",
       "  <tbody>\n",
       "    <tr>\n",
       "      <th>0</th>\n",
       "      <td>0.279231</td>\n",
       "      <td>0.420509</td>\n",
       "      <td>0.284235</td>\n",
       "      <td>3.492857</td>\n",
       "      <td>-1.533999</td>\n",
       "      <td>0.829677</td>\n",
       "      <td>-1.843292</td>\n",
       "      <td>1.041882</td>\n",
       "      <td>-0.096451</td>\n",
       "      <td>-0.607013</td>\n",
       "      <td>...</td>\n",
       "      <td>-0.451410</td>\n",
       "      <td>-0.627843</td>\n",
       "      <td>-0.076531</td>\n",
       "      <td>-0.110536</td>\n",
       "      <td>-0.895359</td>\n",
       "      <td>-0.000822</td>\n",
       "      <td>-0.025585</td>\n",
       "      <td>-0.090482</td>\n",
       "      <td>0.643841</td>\n",
       "      <td>-0.144814</td>\n",
       "    </tr>\n",
       "    <tr>\n",
       "      <th>1</th>\n",
       "      <td>-1.855384</td>\n",
       "      <td>0.034045</td>\n",
       "      <td>-2.244355</td>\n",
       "      <td>0.153165</td>\n",
       "      <td>-0.525561</td>\n",
       "      <td>-0.090585</td>\n",
       "      <td>0.721702</td>\n",
       "      <td>-0.180801</td>\n",
       "      <td>-0.275821</td>\n",
       "      <td>-0.451965</td>\n",
       "      <td>...</td>\n",
       "      <td>-0.410107</td>\n",
       "      <td>0.246605</td>\n",
       "      <td>0.016502</td>\n",
       "      <td>-0.108373</td>\n",
       "      <td>-0.164601</td>\n",
       "      <td>-0.056354</td>\n",
       "      <td>-0.321759</td>\n",
       "      <td>0.146493</td>\n",
       "      <td>-0.271662</td>\n",
       "      <td>0.308508</td>\n",
       "    </tr>\n",
       "  </tbody>\n",
       "</table>\n",
       "<p>2 rows × 77 columns</p>\n",
       "</div>"
      ],
      "text/plain": [
       "         0         1         2         3         4         5         6   \\\n",
       "0  0.279231  0.420509  0.284235  3.492857 -1.533999  0.829677 -1.843292   \n",
       "1 -1.855384  0.034045 -2.244355  0.153165 -0.525561 -0.090585  0.721702   \n",
       "\n",
       "         7         8         9     ...           67        68        69  \\\n",
       "0  1.041882 -0.096451 -0.607013    ...    -0.451410 -0.627843 -0.076531   \n",
       "1 -0.180801 -0.275821 -0.451965    ...    -0.410107  0.246605  0.016502   \n",
       "\n",
       "         70        71        72        73        74        75        76  \n",
       "0 -0.110536 -0.895359 -0.000822 -0.025585 -0.090482  0.643841 -0.144814  \n",
       "1 -0.108373 -0.164601 -0.056354 -0.321759  0.146493 -0.271662  0.308508  \n",
       "\n",
       "[2 rows x 77 columns]"
      ]
     },
     "execution_count": 203,
     "metadata": {},
     "output_type": "execute_result"
    }
   ],
   "source": [
    "from sklearn.decomposition import PCA \n",
    "\n",
    "pca = PCA(n_components=0.95)\n",
    "X_pca = pca.fit_transform(X_scaled)\n",
    "X_pca = pd.DataFrame(X_pca)\n",
    "X_pca.head(2)"
   ]
  },
  {
   "cell_type": "code",
   "execution_count": 157,
   "metadata": {},
   "outputs": [
    {
     "data": {
      "image/png": "[encoded data removed]",
      "text/plain": [
       "<matplotlib.figure.Figure at 0x74d3e748b780>"
      ]
     },
     "metadata": {},
     "output_type": "display_data"
    }
   ],
   "source": [
    "#Distribution of first 9 dimensions\n",
    "f = plt.figure(figsize=(12,9))\n",
    "f.suptitle('\\n After Log-Transform, Scale & PCA: Distribution of first 9 PCs', fontsize=16)\n",
    "for i,feat in enumerate(X_pca.columns[:9]): \n",
    "    ax = f.add_subplot(330+(i+1))\n",
    "    ax.hist(X_pca[feat].values, bins=20, color='grey')"
   ]
  },
  {
   "cell_type": "code",
   "execution_count": 158,
   "metadata": {},
   "outputs": [
    {
     "name": "stdout",
     "output_type": "stream",
     "text": [
      "77 --> n_components for 95% variance\n"
     ]
    },
    {
     "data": {
      "text/html": [
       "<div>\n",
       "<style scoped>\n",
       "    .dataframe tbody tr th:only-of-type {\n",
       "        vertical-align: middle;\n",
       "    }\n",
       "\n",
       "    .dataframe tbody tr th {\n",
       "        vertical-align: top;\n",
       "    }\n",
       "\n",
       "    .dataframe thead th {\n",
       "        text-align: right;\n",
       "    }\n",
       "</style>\n",
       "<table border=\"1\" class=\"dataframe\">\n",
       "  <thead>\n",
       "    <tr style=\"text-align: right;\">\n",
       "      <th></th>\n",
       "      <th>0</th>\n",
       "      <th>1</th>\n",
       "      <th>2</th>\n",
       "      <th>3</th>\n",
       "      <th>4</th>\n",
       "      <th>5</th>\n",
       "      <th>6</th>\n",
       "      <th>7</th>\n",
       "      <th>8</th>\n",
       "      <th>9</th>\n",
       "      <th>...</th>\n",
       "      <th>83</th>\n",
       "      <th>84</th>\n",
       "      <th>85</th>\n",
       "      <th>86</th>\n",
       "      <th>87</th>\n",
       "      <th>88</th>\n",
       "      <th>89</th>\n",
       "      <th>90</th>\n",
       "      <th>91</th>\n",
       "      <th>92</th>\n",
       "    </tr>\n",
       "  </thead>\n",
       "  <tbody>\n",
       "    <tr>\n",
       "      <th>0</th>\n",
       "      <td>0.043308</td>\n",
       "      <td>0.163916</td>\n",
       "      <td>0.171766</td>\n",
       "      <td>0.180857</td>\n",
       "      <td>0.055388</td>\n",
       "      <td>0.037436</td>\n",
       "      <td>0.130168</td>\n",
       "      <td>0.044591</td>\n",
       "      <td>-0.012447</td>\n",
       "      <td>0.090019</td>\n",
       "      <td>...</td>\n",
       "      <td>0.048472</td>\n",
       "      <td>0.026954</td>\n",
       "      <td>-0.037921</td>\n",
       "      <td>0.097418</td>\n",
       "      <td>-0.049071</td>\n",
       "      <td>0.152916</td>\n",
       "      <td>0.122984</td>\n",
       "      <td>0.051931</td>\n",
       "      <td>0.053812</td>\n",
       "      <td>0.073274</td>\n",
       "    </tr>\n",
       "    <tr>\n",
       "      <th>1</th>\n",
       "      <td>0.092340</td>\n",
       "      <td>0.062250</td>\n",
       "      <td>-0.224636</td>\n",
       "      <td>-0.194344</td>\n",
       "      <td>0.028793</td>\n",
       "      <td>0.030640</td>\n",
       "      <td>0.132032</td>\n",
       "      <td>0.118262</td>\n",
       "      <td>0.053266</td>\n",
       "      <td>0.063028</td>\n",
       "      <td>...</td>\n",
       "      <td>0.013504</td>\n",
       "      <td>0.059644</td>\n",
       "      <td>0.084208</td>\n",
       "      <td>0.110934</td>\n",
       "      <td>0.035455</td>\n",
       "      <td>-0.046252</td>\n",
       "      <td>0.127717</td>\n",
       "      <td>0.083930</td>\n",
       "      <td>-0.041433</td>\n",
       "      <td>0.056350</td>\n",
       "    </tr>\n",
       "    <tr>\n",
       "      <th>2</th>\n",
       "      <td>0.104123</td>\n",
       "      <td>-0.109233</td>\n",
       "      <td>-0.023666</td>\n",
       "      <td>-0.016878</td>\n",
       "      <td>0.053266</td>\n",
       "      <td>-0.015978</td>\n",
       "      <td>-0.035044</td>\n",
       "      <td>0.009818</td>\n",
       "      <td>-0.073554</td>\n",
       "      <td>0.076254</td>\n",
       "      <td>...</td>\n",
       "      <td>0.005930</td>\n",
       "      <td>0.155675</td>\n",
       "      <td>0.151245</td>\n",
       "      <td>0.077159</td>\n",
       "      <td>0.133506</td>\n",
       "      <td>0.107955</td>\n",
       "      <td>-0.164702</td>\n",
       "      <td>-0.040198</td>\n",
       "      <td>0.113511</td>\n",
       "      <td>0.003565</td>\n",
       "    </tr>\n",
       "    <tr>\n",
       "      <th>3</th>\n",
       "      <td>0.046814</td>\n",
       "      <td>-0.132479</td>\n",
       "      <td>-0.012012</td>\n",
       "      <td>-0.002468</td>\n",
       "      <td>0.064156</td>\n",
       "      <td>-0.009683</td>\n",
       "      <td>-0.049676</td>\n",
       "      <td>0.153499</td>\n",
       "      <td>0.006327</td>\n",
       "      <td>-0.062983</td>\n",
       "      <td>...</td>\n",
       "      <td>0.093056</td>\n",
       "      <td>-0.193866</td>\n",
       "      <td>-0.151040</td>\n",
       "      <td>0.050976</td>\n",
       "      <td>-0.188530</td>\n",
       "      <td>-0.000429</td>\n",
       "      <td>-0.191645</td>\n",
       "      <td>0.061825</td>\n",
       "      <td>0.161786</td>\n",
       "      <td>0.002658</td>\n",
       "    </tr>\n",
       "    <tr>\n",
       "      <th>4</th>\n",
       "      <td>0.082318</td>\n",
       "      <td>-0.141538</td>\n",
       "      <td>0.100224</td>\n",
       "      <td>0.033147</td>\n",
       "      <td>0.022662</td>\n",
       "      <td>0.005171</td>\n",
       "      <td>-0.027990</td>\n",
       "      <td>0.053075</td>\n",
       "      <td>0.356147</td>\n",
       "      <td>0.017049</td>\n",
       "      <td>...</td>\n",
       "      <td>0.032547</td>\n",
       "      <td>-0.002884</td>\n",
       "      <td>0.116462</td>\n",
       "      <td>0.041461</td>\n",
       "      <td>0.085610</td>\n",
       "      <td>0.037371</td>\n",
       "      <td>-0.163894</td>\n",
       "      <td>-0.014799</td>\n",
       "      <td>-0.095148</td>\n",
       "      <td>-0.003668</td>\n",
       "    </tr>\n",
       "  </tbody>\n",
       "</table>\n",
       "<p>5 rows × 93 columns</p>\n",
       "</div>"
      ],
      "text/plain": [
       "         0         1         2         3         4         5         6   \\\n",
       "0  0.043308  0.163916  0.171766  0.180857  0.055388  0.037436  0.130168   \n",
       "1  0.092340  0.062250 -0.224636 -0.194344  0.028793  0.030640  0.132032   \n",
       "2  0.104123 -0.109233 -0.023666 -0.016878  0.053266 -0.015978 -0.035044   \n",
       "3  0.046814 -0.132479 -0.012012 -0.002468  0.064156 -0.009683 -0.049676   \n",
       "4  0.082318 -0.141538  0.100224  0.033147  0.022662  0.005171 -0.027990   \n",
       "\n",
       "         7         8         9     ...           83        84        85  \\\n",
       "0  0.044591 -0.012447  0.090019    ...     0.048472  0.026954 -0.037921   \n",
       "1  0.118262  0.053266  0.063028    ...     0.013504  0.059644  0.084208   \n",
       "2  0.009818 -0.073554  0.076254    ...     0.005930  0.155675  0.151245   \n",
       "3  0.153499  0.006327 -0.062983    ...     0.093056 -0.193866 -0.151040   \n",
       "4  0.053075  0.356147  0.017049    ...     0.032547 -0.002884  0.116462   \n",
       "\n",
       "         86        87        88        89        90        91        92  \n",
       "0  0.097418 -0.049071  0.152916  0.122984  0.051931  0.053812  0.073274  \n",
       "1  0.110934  0.035455 -0.046252  0.127717  0.083930 -0.041433  0.056350  \n",
       "2  0.077159  0.133506  0.107955 -0.164702 -0.040198  0.113511  0.003565  \n",
       "3  0.050976 -0.188530 -0.000429 -0.191645  0.061825  0.161786  0.002658  \n",
       "4  0.041461  0.085610  0.037371 -0.163894 -0.014799 -0.095148 -0.003668  \n",
       "\n",
       "[5 rows x 93 columns]"
      ]
     },
     "execution_count": 158,
     "metadata": {},
     "output_type": "execute_result"
    }
   ],
   "source": [
    "X_pca_loadings = pd.DataFrame(pca.components_)\n",
    "print(len(X_pca_loadings), '--> n_components for 95% variance')\n",
    "X_pca_loadings.head()"
   ]
  },
  {
   "cell_type": "code",
   "execution_count": 159,
   "metadata": {},
   "outputs": [
    {
     "data": {
      "text/plain": [
       "Text(0,0.5,'Cumulated explained Variance')"
      ]
     },
     "execution_count": 159,
     "metadata": {},
     "output_type": "execute_result"
    },
    {
     "data": {
      "image/png": "[encoded data removed]",
      "text/plain": [
       "<matplotlib.figure.Figure at 0x74d3edfde9e8>"
      ]
     },
     "metadata": {},
     "output_type": "display_data"
    }
   ],
   "source": [
    "import numpy as np\n",
    "\n",
    "cumsum = np.cumsum(pca.explained_variance_ratio_)\n",
    "plt.plot(cumsum)\n",
    "plt.xlabel('Dimensions')\n",
    "plt.ylabel('Cumulated explained Variance')"
   ]
  },
  {
   "cell_type": "markdown",
   "metadata": {},
   "source": [
    "Not a whole lot of feature reduction through PCA."
   ]
  },
  {
   "cell_type": "code",
   "execution_count": 163,
   "metadata": {},
   "outputs": [
    {
     "data": {
      "text/html": [
       "<div>\n",
       "<style scoped>\n",
       "    .dataframe tbody tr th:only-of-type {\n",
       "        vertical-align: middle;\n",
       "    }\n",
       "\n",
       "    .dataframe tbody tr th {\n",
       "        vertical-align: top;\n",
       "    }\n",
       "\n",
       "    .dataframe thead th {\n",
       "        text-align: right;\n",
       "    }\n",
       "</style>\n",
       "<table border=\"1\" class=\"dataframe\">\n",
       "  <thead>\n",
       "    <tr style=\"text-align: right;\">\n",
       "      <th></th>\n",
       "      <th>0</th>\n",
       "      <th>1</th>\n",
       "      <th>2</th>\n",
       "      <th>3</th>\n",
       "      <th>4</th>\n",
       "      <th>5</th>\n",
       "      <th>6</th>\n",
       "      <th>7</th>\n",
       "      <th>8</th>\n",
       "      <th>9</th>\n",
       "      <th>...</th>\n",
       "      <th>67</th>\n",
       "      <th>68</th>\n",
       "      <th>69</th>\n",
       "      <th>70</th>\n",
       "      <th>71</th>\n",
       "      <th>72</th>\n",
       "      <th>73</th>\n",
       "      <th>74</th>\n",
       "      <th>75</th>\n",
       "      <th>76</th>\n",
       "    </tr>\n",
       "  </thead>\n",
       "  <tbody>\n",
       "    <tr>\n",
       "      <th>0</th>\n",
       "      <td>-0.322226</td>\n",
       "      <td>0.261640</td>\n",
       "      <td>-0.101271</td>\n",
       "      <td>2.371336</td>\n",
       "      <td>-1.969393</td>\n",
       "      <td>0.606056</td>\n",
       "      <td>-0.519601</td>\n",
       "      <td>0.807828</td>\n",
       "      <td>-0.128615</td>\n",
       "      <td>0.343750</td>\n",
       "      <td>...</td>\n",
       "      <td>0.200260</td>\n",
       "      <td>0.963056</td>\n",
       "      <td>0.699243</td>\n",
       "      <td>0.151211</td>\n",
       "      <td>0.018452</td>\n",
       "      <td>0.159116</td>\n",
       "      <td>0.058467</td>\n",
       "      <td>-0.217591</td>\n",
       "      <td>-0.099505</td>\n",
       "      <td>0.039922</td>\n",
       "    </tr>\n",
       "    <tr>\n",
       "      <th>1</th>\n",
       "      <td>-1.617733</td>\n",
       "      <td>-0.431757</td>\n",
       "      <td>-1.121202</td>\n",
       "      <td>0.293595</td>\n",
       "      <td>-0.614387</td>\n",
       "      <td>0.339935</td>\n",
       "      <td>0.290450</td>\n",
       "      <td>0.032317</td>\n",
       "      <td>-0.690445</td>\n",
       "      <td>0.123639</td>\n",
       "      <td>...</td>\n",
       "      <td>0.113155</td>\n",
       "      <td>-0.150796</td>\n",
       "      <td>-0.435511</td>\n",
       "      <td>-0.100994</td>\n",
       "      <td>-0.021727</td>\n",
       "      <td>-0.141727</td>\n",
       "      <td>-0.286881</td>\n",
       "      <td>0.079725</td>\n",
       "      <td>0.034071</td>\n",
       "      <td>0.143423</td>\n",
       "    </tr>\n",
       "  </tbody>\n",
       "</table>\n",
       "<p>2 rows × 77 columns</p>\n",
       "</div>"
      ],
      "text/plain": [
       "         0         1         2         3         4         5         6   \\\n",
       "0 -0.322226  0.261640 -0.101271  2.371336 -1.969393  0.606056 -0.519601   \n",
       "1 -1.617733 -0.431757 -1.121202  0.293595 -0.614387  0.339935  0.290450   \n",
       "\n",
       "         7         8         9     ...           67        68        69  \\\n",
       "0  0.807828 -0.128615  0.343750    ...     0.200260  0.963056  0.699243   \n",
       "1  0.032317 -0.690445  0.123639    ...     0.113155 -0.150796 -0.435511   \n",
       "\n",
       "         70        71        72        73        74        75        76  \n",
       "0  0.151211  0.018452  0.159116  0.058467 -0.217591 -0.099505  0.039922  \n",
       "1 -0.100994 -0.021727 -0.141727 -0.286881  0.079725  0.034071  0.143423  \n",
       "\n",
       "[2 rows x 77 columns]"
      ]
     },
     "execution_count": 163,
     "metadata": {},
     "output_type": "execute_result"
    }
   ],
   "source": [
    "X_scaled = StandardScaler().fit_transform(X)\n",
    "\n",
    "pca = PCA(n_components=0.95)\n",
    "X_pca = pca.fit_transform(X_scaled)\n",
    "X_pca = pd.DataFrame(X_pca)\n",
    "X_pca.head(2)"
   ]
  },
  {
   "cell_type": "markdown",
   "metadata": {},
   "source": [
    "#### Kernel PCA \n",
    "\n",
    "Undoable with the whole dataset, see https://stats.stackexchange.com/questions/348574/memoryerror-for-scikitlearn-kernel-pca."
   ]
  },
  {
   "cell_type": "markdown",
   "metadata": {},
   "source": [
    "<br> \n",
    "### K-Means Clustering "
   ]
  },
  {
   "cell_type": "markdown",
   "metadata": {},
   "source": [
    "#### Tryout with 5 clusters"
   ]
  },
  {
   "cell_type": "code",
   "execution_count": 167,
   "metadata": {},
   "outputs": [
    {
     "data": {
      "text/plain": [
       "array([3, 3, 3, ..., 3, 3, 3], dtype=int32)"
      ]
     },
     "execution_count": 167,
     "metadata": {},
     "output_type": "execute_result"
    }
   ],
   "source": [
    "from sklearn.cluster import KMeans\n",
    "\n",
    "k_means = KMeans(n_clusters=5)\n",
    "k_means.fit_predict(X_scaled)"
   ]
  },
  {
   "cell_type": "code",
   "execution_count": 168,
   "metadata": {},
   "outputs": [
    {
     "name": "stdout",
     "output_type": "stream",
     "text": [
      "5\n",
      "93\n"
     ]
    },
    {
     "data": {
      "text/plain": [
       "array([-1.77190981e-01,  2.82706679e-01,  2.36217277e+00,  1.85465646e+00,\n",
       "       -8.91355883e-03,  5.03970385e-03, -5.30257128e-02, -2.29078555e-01,\n",
       "       -2.10831522e-01,  1.77760284e-02,  2.43408236e+00,  1.78816824e-01,\n",
       "       -2.88864827e-02, -4.21074570e-01, -2.73569586e-01,  6.65687656e-01,\n",
       "       -1.55958896e-01,  4.40752409e-01, -7.17863095e-02, -1.17644676e-01,\n",
       "        1.23823519e+00,  6.91024342e-01, -2.21797723e-02, -1.06737447e-01,\n",
       "       -6.00508865e-01,  9.48294090e-01,  1.96431349e+00,  1.82107205e+00,\n",
       "       -6.51305413e-02, -3.00198251e-02,  6.97416655e-01, -1.75323939e-01,\n",
       "       -3.46150494e-01, -1.59313442e-01,  9.26729497e-01, -1.59219452e-01,\n",
       "       -1.08643739e-01,  7.41416773e-02, -9.61235512e-02, -3.65586982e-01,\n",
       "       -1.45494763e-01,  4.00014679e-02, -6.51855517e-02,  7.01488499e-01,\n",
       "       -5.69180328e-02,  2.17635070e+00, -8.01710070e-02, -4.29607787e-01,\n",
       "        1.03354151e+00, -1.24042824e-01,  1.54792741e-01,  9.86236784e-01,\n",
       "       -1.46819970e-01,  2.06615447e+00,  7.33308713e-02,  6.87494129e-02,\n",
       "        1.76284617e-03,  1.71726344e-01, -1.23259756e-01, -5.14456336e-02,\n",
       "        1.97677630e+00, -9.90565281e-02,  8.39206840e-02, -2.50608164e-01,\n",
       "        1.53517532e-01,  2.29539044e-01, -4.54283024e-01, -1.36121443e-01,\n",
       "       -1.62039604e-01, -1.79749767e-01, -2.33510902e-01, -2.22816746e-01,\n",
       "       -4.78355691e-02,  5.00976930e-01, -1.70273033e-01, -1.41920249e-01,\n",
       "       -3.02527484e-02, -1.04123409e-01, -1.18576247e-01,  1.99342705e+00,\n",
       "        4.85437631e-03,  1.70800052e+00, -1.25981812e-01, -1.98883269e-04,\n",
       "       -2.28897240e-01, -3.87645593e-01, -1.32395612e-01, -3.20239488e-01,\n",
       "        5.74883374e-01, -1.06102873e-01, -9.79206744e-02,  1.62105876e-01,\n",
       "       -1.25518594e-02])"
      ]
     },
     "execution_count": 168,
     "metadata": {},
     "output_type": "execute_result"
    }
   ],
   "source": [
    "#must be five\n",
    "print(len(k_means.cluster_centers_))\n",
    "\n",
    "#must be 93 if original feature space \n",
    "print(len(k_means.cluster_centers_[1]))\n",
    "\n",
    "#first cluster center\n",
    "k_means.cluster_centers_[1] "
   ]
  },
  {
   "cell_type": "code",
   "execution_count": 169,
   "metadata": {},
   "outputs": [
    {
     "data": {
      "text/plain": [
       "array([3, 3, 3, ..., 3, 3, 3], dtype=int32)"
      ]
     },
     "execution_count": 169,
     "metadata": {},
     "output_type": "execute_result"
    }
   ],
   "source": [
    "#labels holds assigned clusters\n",
    "k_means.labels_"
   ]
  },
  {
   "cell_type": "code",
   "execution_count": 170,
   "metadata": {},
   "outputs": [
    {
     "data": {
      "text/plain": [
       "4910830.821988597"
      ]
     },
     "execution_count": 170,
     "metadata": {},
     "output_type": "execute_result"
    }
   ],
   "source": [
    "#interia holds the within-cluster sum-of-squares\n",
    "k_means.inertia_"
   ]
  },
  {
   "cell_type": "markdown",
   "metadata": {},
   "source": [
    "#### Can we find an ideal cluster no.?\n",
    "\n",
    "Let's assume for simplicity that we know we have at least 4 clusters in our data. We'll examine two methods for determining the optimal number of clusters.\n",
    "\n",
    "*1) Elbow Criterion Method:*\n",
    "\n",
    "The idea behind the elbow method is to run k-means clustering on a given dataset for a range of values of k (num_clusters, e.g k=4 to 12), and for each value of k, calculate sum of squared errors (SSE). "
   ]
  },
  {
   "cell_type": "code",
   "execution_count": 172,
   "metadata": {},
   "outputs": [
    {
     "data": {
      "image/png": "[encoded data removed]",
      "text/plain": [
       "<matplotlib.figure.Figure at 0x74d3dc033668>"
      ]
     },
     "metadata": {},
     "output_type": "display_data"
    }
   ],
   "source": [
    "from sklearn.cluster import KMeans\n",
    "\n",
    "sse = {}\n",
    "predictions = {}\n",
    "\n",
    "for k in range(2, 15):\n",
    "    kmeans = KMeans(n_clusters=k).fit(X_pca)\n",
    "    predictions[k] = kmeans.labels_\n",
    "    sse[k] = kmeans.inertia_ \n",
    "\n",
    "plt.figure()\n",
    "plt.plot(list(sse.keys()), list(sse.values()))\n",
    "plt.title('Ellbow Criterion')\n",
    "plt.xlabel(\"Number of clusters\")\n",
    "plt.ylabel(\"SSE\")\n",
    "plt.show()"
   ]
  },
  {
   "cell_type": "markdown",
   "metadata": {},
   "source": [
    "In our case, the the ellbow criterion does not indicate much. "
   ]
  },
  {
   "cell_type": "markdown",
   "metadata": {},
   "source": [
    "*2) The Silhouette Coefficient*: \n",
    "\n",
    "Is defined for each sample and is composed of two scores:\n",
    "- a: The mean distance between a sample and all other points in the same class.\n",
    "- b: The mean distance between a sample and all other points in the next nearest cluster.\n",
    "\n",
    "The Silhouette Coefficient s for a single sample is then given as: $$ s = \\frac{b - a}{max(a, b)} $$"
   ]
  },
  {
   "cell_type": "code",
   "execution_count": 16,
   "metadata": {},
   "outputs": [],
   "source": [
    "#from sklearn.metrics import silhouette_score\n",
    "\n",
    "#for k in range(2, 15):\n",
    "#    sil_coeff = silhouette_score(X, predictions[k], metric='euclidean')\n",
    "#    print(\"For n_clusters={}, The Silhouette Coefficient is {}\".format(k, sil_coeff))"
   ]
  },
  {
   "cell_type": "markdown",
   "metadata": {},
   "source": [
    "However, computing the *silhouette_score* turns out to be very memory intense - leading to a dying Kernel on my Acer Chromebook 14 (Crouton). See Issue: https://stackoverflow.com/questions/32573948/ipython-notebook-kernel-getting-dead-while-running-kmeans. "
   ]
  },
  {
   "cell_type": "markdown",
   "metadata": {},
   "source": [
    "*3) Calinski-Harabaz Index*: <br><br>\n",
    "Another method is the Calinski-Harabaz Index, given as the ratio of the between-clusters dispersion mean and the within-cluster dispersion. <br> See details on [scikit-learn](http://scikit-learn.org/stable/modules/clustering.html#calinski-harabaz). "
   ]
  },
  {
   "cell_type": "code",
   "execution_count": 173,
   "metadata": {},
   "outputs": [
    {
     "name": "stdout",
     "output_type": "stream",
     "text": [
      "For n_clusters=2, C-H-Score is 3841.091861044172\n",
      "For n_clusters=3, C-H-Score is 3579.660368273077\n",
      "For n_clusters=4, C-H-Score is 2970.299743908855\n",
      "For n_clusters=5, C-H-Score is 2657.869416305046\n",
      "For n_clusters=6, C-H-Score is 2374.7990015883333\n",
      "For n_clusters=7, C-H-Score is 2270.8463361329095\n",
      "For n_clusters=8, C-H-Score is 2214.1919367271075\n",
      "For n_clusters=9, C-H-Score is 2145.37603499986\n",
      "For n_clusters=10, C-H-Score is 2046.4740669102957\n",
      "For n_clusters=11, C-H-Score is 1970.015428688239\n",
      "For n_clusters=12, C-H-Score is 2001.3478269335333\n",
      "For n_clusters=13, C-H-Score is 1943.753925065983\n",
      "For n_clusters=14, C-H-Score is 1845.0165792489631\n"
     ]
    }
   ],
   "source": [
    "from sklearn import metrics\n",
    "\n",
    "for k in range(2, 15):\n",
    "    print(\"For n_clusters={}, C-H-Score is {}\".format(k,\n",
    "          metrics.calinski_harabaz_score(X_scaled, predictions[k])))"
   ]
  },
  {
   "cell_type": "markdown",
   "metadata": {},
   "source": [
    "According to C-H Index, we'd opt for two clusters. "
   ]
  },
  {
   "cell_type": "markdown",
   "metadata": {},
   "source": [
    "**Presuming, we know that we have 9 clusters - how well would K-Means actually do?**"
   ]
  },
  {
   "cell_type": "code",
   "execution_count": 174,
   "metadata": {},
   "outputs": [
    {
     "data": {
      "text/plain": [
       "array(['Class_1', 'Class_2', 'Class_3', 'Class_4', 'Class_5', 'Class_6',\n",
       "       'Class_7', 'Class_8', 'Class_9'], dtype=object)"
      ]
     },
     "execution_count": 174,
     "metadata": {},
     "output_type": "execute_result"
    }
   ],
   "source": [
    "y.unique()"
   ]
  },
  {
   "cell_type": "markdown",
   "metadata": {},
   "source": [
    "If C is a ground truth class assignment and K the clustering, let us define  and  as:\n",
    "\n",
    "- the number of pairs of elements that are in the same set in C and in the same set in K\n",
    "-  the number of pairs of elements that are in different sets in C and in different sets in K\n",
    "\n",
    "The raw (unadjusted) Rand index is then given by: <br><br>\n",
    "$\n",
    "\\begin{align}\n",
    "\\text{RI} = \\frac{a + b}{C_2^{n_{samples}}}\n",
    "\\end{align}\n",
    "$\n",
    "\n",
    "Where $\n",
    "\\begin{align}\n",
    "{C_2^{n_{samples}}}\n",
    "\\end{align} $\n",
    "is the total number of possible pairs in the dataset (without ordering)."
   ]
  },
  {
   "cell_type": "code",
   "execution_count": 204,
   "metadata": {},
   "outputs": [
    {
     "data": {
      "text/plain": [
       "0.20049833151329963"
      ]
     },
     "execution_count": 204,
     "metadata": {},
     "output_type": "execute_result"
    }
   ],
   "source": [
    "kmeans = KMeans(n_clusters=9).fit(X_pca)\n",
    "y_pred = kmeans.labels_\n",
    "\n",
    "metrics.adjusted_rand_score(y, y_pred)"
   ]
  },
  {
   "cell_type": "code",
   "execution_count": 205,
   "metadata": {},
   "outputs": [
    {
     "data": {
      "text/plain": [
       "7    19171\n",
       "5    15750\n",
       "2     5897\n",
       "4     5182\n",
       "6     3806\n",
       "0     3700\n",
       "1     3475\n",
       "3     2564\n",
       "8     2333\n",
       "Name: y_pred, dtype: int64"
      ]
     },
     "execution_count": 205,
     "metadata": {},
     "output_type": "execute_result"
    }
   ],
   "source": [
    "#Throw results in a df\n",
    "y_df_kmeans = pd.DataFrame()\n",
    "y_df_kmeans['y'] = y\n",
    "y_df_kmeans['y_pred'] = y_pred\n",
    "\n",
    "#Explore predictions\n",
    "y_df_kmeans['y_pred'].value_counts()"
   ]
  },
  {
   "cell_type": "code",
   "execution_count": 206,
   "metadata": {},
   "outputs": [
    {
     "data": {
      "text/plain": [
       "Class_2    16122\n",
       "Class_6    14135\n",
       "Class_8     8464\n",
       "Class_3     8004\n",
       "Class_9     4955\n",
       "Class_7     2839\n",
       "Class_5     2739\n",
       "Class_4     2691\n",
       "Class_1     1929\n",
       "Name: target, dtype: int64"
      ]
     },
     "execution_count": 206,
     "metadata": {},
     "output_type": "execute_result"
    }
   ],
   "source": [
    "y.value_counts()"
   ]
  },
  {
   "cell_type": "markdown",
   "metadata": {},
   "source": [
    "**Let's modify our data a little, simulating we have only 9 ... 2 clusters in our data (with the most frequent classes kept).**"
   ]
  },
  {
   "cell_type": "code",
   "execution_count": 178,
   "metadata": {},
   "outputs": [],
   "source": [
    "from sklearn.cluster import KMeans\n",
    "from sklearn import metrics\n",
    "\n",
    "classes = list(y.value_counts().index) \n",
    "\n",
    "def do_clustering(k, X): \n",
    "\n",
    "    #Concat X with y to filter classes\n",
    "    X['target'] = y\n",
    "    X = X[X.target.isin(classes[:k])]\n",
    "    y_new = X.iloc[:,-1:]\n",
    "    X = X.iloc[:,:-1]\n",
    "    \n",
    "    #Clustering \n",
    "    clustering = KMeans(n_clusters=k).fit(X)\n",
    "        \n",
    "    y_pred = clustering.labels_\n",
    "    \n",
    "    #Return adj rand score\n",
    "    return metrics.adjusted_rand_score(y_new.target, y_pred)"
   ]
  },
  {
   "cell_type": "code",
   "execution_count": 190,
   "metadata": {},
   "outputs": [
    {
     "name": "stdout",
     "output_type": "stream",
     "text": [
      "\n",
      " 9 clusters:\n",
      "0.1984468864253334\n",
      "\n",
      " 8 clusters:\n",
      "0.2003092352600716\n",
      "\n",
      " 7 clusters:\n",
      "0.25869615623602105\n",
      "\n",
      " 6 clusters:\n",
      "0.34025724079610375\n",
      "\n",
      " 5 clusters:\n",
      "0.303997069444223\n",
      "\n",
      " 4 clusters:\n",
      "0.3377847993312014\n",
      "\n",
      " 3 clusters:\n",
      "0.20547743205848792\n",
      "\n",
      " 2 clusters:\n",
      "0.23257747621575853\n"
     ]
    }
   ],
   "source": [
    "for k in range(9,1,-1): \n",
    "    print('\\n {} clusters:'.format(k))\n",
    "    print(do_clustering(k,pd.DataFrame(X_scaled)))"
   ]
  },
  {
   "cell_type": "markdown",
   "metadata": {},
   "source": [
    "Could be weigh better..."
   ]
  },
  {
   "cell_type": "markdown",
   "metadata": {},
   "source": [
    "**Any notable difference in the PCA transformed dataset?**"
   ]
  },
  {
   "cell_type": "code",
   "execution_count": 207,
   "metadata": {},
   "outputs": [
    {
     "name": "stdout",
     "output_type": "stream",
     "text": [
      "\n",
      " 9 clusters:\n",
      "0.19982008290834755\n",
      "\n",
      " 8 clusters:\n",
      "0.20125952363388122\n",
      "\n",
      " 7 clusters:\n",
      "0.2578518212420332\n",
      "\n",
      " 6 clusters:\n",
      "0.3402509216400258\n",
      "\n",
      " 5 clusters:\n",
      "0.3043592936602965\n",
      "\n",
      " 4 clusters:\n",
      "0.33744056641788217\n",
      "\n",
      " 3 clusters:\n",
      "0.2053031686971332\n",
      "\n",
      " 2 clusters:\n",
      "0.2323852556522679\n"
     ]
    }
   ],
   "source": [
    "for k in range(9,1,-1): \n",
    "    print('\\n {} clusters:'.format(k))\n",
    "    print(do_clustering(k, pd.DataFrame(X_pca)))"
   ]
  },
  {
   "cell_type": "markdown",
   "metadata": {},
   "source": [
    "### Annex: Scenario - Without log-scaling "
   ]
  },
  {
   "cell_type": "code",
   "execution_count": 212,
   "metadata": {},
   "outputs": [
    {
     "name": "stdout",
     "output_type": "stream",
     "text": [
      "Adj Rand without PCA: 0.0860399870181946\n",
      "Adj Rand with PCA: 0.062694999123541\n"
     ]
    }
   ],
   "source": [
    "import pandas as pd\n",
    "from sklearn.preprocessing import StandardScaler\n",
    "\n",
    "#Read df\n",
    "df_new = pd.read_csv('data/train.csv')\n",
    "\n",
    "#Keep y (targets) for evaluation of clustering \n",
    "y_new = df_new.iloc[:,-1:].target\n",
    "X_new = df_new.iloc[:,:-1].drop(['id'], axis=1)\n",
    "\n",
    "#Scale X\n",
    "X_scaled_new = pd.DataFrame(StandardScaler().fit_transform(X_new))\n",
    "\n",
    "#PCA\n",
    "pca_new = PCA(n_components=0.95)\n",
    "X_pca_new = pd.DataFrame(pca.fit_transform(X_scaled_new))\n",
    "\n",
    "#KMeans without PCA\n",
    "print('Adj Rand without PCA:', do_clustering(9,X_scaled_new))\n",
    "\n",
    "#KMeans with PCA\n",
    "print('Adj Rand with PCA:', do_clustering(9,X_pca_new))"
   ]
  },
  {
   "cell_type": "markdown",
   "metadata": {},
   "source": [
    "Log-Transform improved performance by ~10-12% in the 9 cluster case!"
   ]
  },
  {
   "cell_type": "markdown",
   "metadata": {},
   "source": [
    "### Hierarchical Clustering "
   ]
  },
  {
   "cell_type": "markdown",
   "metadata": {},
   "source": [
    "Dying Kernel. From [Wiki](https://en.wikipedia.org/wiki/Hierarchical_clustering): The standard algorithm for hierarchical agglomerative clustering (HAC) has a time complexity of $ {\\mathcal {O}}(n^{3})$ and requires $ {\\mathcal {O}}(n^{2}) $ memory, which makes it too slow for even medium data sets. "
   ]
  }
 ],
 "metadata": {
  "kernelspec": {
   "display_name": "Python 3",
   "language": "python",
   "name": "python3"
  },
  "language_info": {
   "codemirror_mode": {
    "name": "ipython",
    "version": 3
   },
   "file_extension": ".py",
   "mimetype": "text/x-python",
   "name": "python",
   "nbconvert_exporter": "python",
   "pygments_lexer": "ipython3",
   "version": "3.6.4"
  }
 },
 "nbformat": 4,
 "nbformat_minor": 2
}
