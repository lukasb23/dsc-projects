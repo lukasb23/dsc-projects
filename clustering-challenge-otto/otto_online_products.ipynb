{
 "cells": [
  {
   "cell_type": "markdown",
   "metadata": {},
   "source": [
    "## Unsupervised Learning\n",
    "\n",
    "Data from Otto Product Classification Challenge <br>\n",
    "https://www.kaggle.com/c/otto-group-product-classification-challenge/data <br> <br> \n",
    "**Dataset Description:** Each row corresponds to a single product. There are a total of 93 numerical features, which represent counts of different events. All features have been obfuscated and will not be defined any further. [...] The products for the training and testing sets are selected randomly.\n",
    "\n",
    "We know that there are 9 product categories, but we'll neglect this information to simulate an unsupervised learning problem."
   ]
  },
  {
   "cell_type": "markdown",
   "metadata": {},
   "source": [
    "### Data Fetching"
   ]
  },
  {
   "cell_type": "code",
   "execution_count": 2,
   "metadata": {},
   "outputs": [
    {
     "name": "stdout",
     "output_type": "stream",
     "text": [
      "(61878, 95)\n"
     ]
    },
    {
     "data": {
      "text/html": [
       "<div>\n",
       "<style scoped>\n",
       "    .dataframe tbody tr th:only-of-type {\n",
       "        vertical-align: middle;\n",
       "    }\n",
       "\n",
       "    .dataframe tbody tr th {\n",
       "        vertical-align: top;\n",
       "    }\n",
       "\n",
       "    .dataframe thead th {\n",
       "        text-align: right;\n",
       "    }\n",
       "</style>\n",
       "<table border=\"1\" class=\"dataframe\">\n",
       "  <thead>\n",
       "    <tr style=\"text-align: right;\">\n",
       "      <th></th>\n",
       "      <th>id</th>\n",
       "      <th>feat_1</th>\n",
       "      <th>feat_2</th>\n",
       "      <th>feat_3</th>\n",
       "      <th>feat_4</th>\n",
       "      <th>feat_5</th>\n",
       "      <th>feat_6</th>\n",
       "      <th>feat_7</th>\n",
       "      <th>feat_8</th>\n",
       "      <th>feat_9</th>\n",
       "      <th>...</th>\n",
       "      <th>feat_85</th>\n",
       "      <th>feat_86</th>\n",
       "      <th>feat_87</th>\n",
       "      <th>feat_88</th>\n",
       "      <th>feat_89</th>\n",
       "      <th>feat_90</th>\n",
       "      <th>feat_91</th>\n",
       "      <th>feat_92</th>\n",
       "      <th>feat_93</th>\n",
       "      <th>target</th>\n",
       "    </tr>\n",
       "  </thead>\n",
       "  <tbody>\n",
       "    <tr>\n",
       "      <th>0</th>\n",
       "      <td>1</td>\n",
       "      <td>1</td>\n",
       "      <td>0</td>\n",
       "      <td>0</td>\n",
       "      <td>0</td>\n",
       "      <td>0</td>\n",
       "      <td>0</td>\n",
       "      <td>0</td>\n",
       "      <td>0</td>\n",
       "      <td>0</td>\n",
       "      <td>...</td>\n",
       "      <td>1</td>\n",
       "      <td>0</td>\n",
       "      <td>0</td>\n",
       "      <td>0</td>\n",
       "      <td>0</td>\n",
       "      <td>0</td>\n",
       "      <td>0</td>\n",
       "      <td>0</td>\n",
       "      <td>0</td>\n",
       "      <td>Class_1</td>\n",
       "    </tr>\n",
       "    <tr>\n",
       "      <th>1</th>\n",
       "      <td>2</td>\n",
       "      <td>0</td>\n",
       "      <td>0</td>\n",
       "      <td>0</td>\n",
       "      <td>0</td>\n",
       "      <td>0</td>\n",
       "      <td>0</td>\n",
       "      <td>0</td>\n",
       "      <td>1</td>\n",
       "      <td>0</td>\n",
       "      <td>...</td>\n",
       "      <td>0</td>\n",
       "      <td>0</td>\n",
       "      <td>0</td>\n",
       "      <td>0</td>\n",
       "      <td>0</td>\n",
       "      <td>0</td>\n",
       "      <td>0</td>\n",
       "      <td>0</td>\n",
       "      <td>0</td>\n",
       "      <td>Class_1</td>\n",
       "    </tr>\n",
       "    <tr>\n",
       "      <th>2</th>\n",
       "      <td>3</td>\n",
       "      <td>0</td>\n",
       "      <td>0</td>\n",
       "      <td>0</td>\n",
       "      <td>0</td>\n",
       "      <td>0</td>\n",
       "      <td>0</td>\n",
       "      <td>0</td>\n",
       "      <td>1</td>\n",
       "      <td>0</td>\n",
       "      <td>...</td>\n",
       "      <td>0</td>\n",
       "      <td>0</td>\n",
       "      <td>0</td>\n",
       "      <td>0</td>\n",
       "      <td>0</td>\n",
       "      <td>0</td>\n",
       "      <td>0</td>\n",
       "      <td>0</td>\n",
       "      <td>0</td>\n",
       "      <td>Class_1</td>\n",
       "    </tr>\n",
       "    <tr>\n",
       "      <th>3</th>\n",
       "      <td>4</td>\n",
       "      <td>1</td>\n",
       "      <td>0</td>\n",
       "      <td>0</td>\n",
       "      <td>1</td>\n",
       "      <td>6</td>\n",
       "      <td>1</td>\n",
       "      <td>5</td>\n",
       "      <td>0</td>\n",
       "      <td>0</td>\n",
       "      <td>...</td>\n",
       "      <td>0</td>\n",
       "      <td>1</td>\n",
       "      <td>2</td>\n",
       "      <td>0</td>\n",
       "      <td>0</td>\n",
       "      <td>0</td>\n",
       "      <td>0</td>\n",
       "      <td>0</td>\n",
       "      <td>0</td>\n",
       "      <td>Class_1</td>\n",
       "    </tr>\n",
       "    <tr>\n",
       "      <th>4</th>\n",
       "      <td>5</td>\n",
       "      <td>0</td>\n",
       "      <td>0</td>\n",
       "      <td>0</td>\n",
       "      <td>0</td>\n",
       "      <td>0</td>\n",
       "      <td>0</td>\n",
       "      <td>0</td>\n",
       "      <td>0</td>\n",
       "      <td>0</td>\n",
       "      <td>...</td>\n",
       "      <td>1</td>\n",
       "      <td>0</td>\n",
       "      <td>0</td>\n",
       "      <td>0</td>\n",
       "      <td>0</td>\n",
       "      <td>1</td>\n",
       "      <td>0</td>\n",
       "      <td>0</td>\n",
       "      <td>0</td>\n",
       "      <td>Class_1</td>\n",
       "    </tr>\n",
       "  </tbody>\n",
       "</table>\n",
       "<p>5 rows × 95 columns</p>\n",
       "</div>"
      ],
      "text/plain": [
       "   id  feat_1  feat_2  feat_3  feat_4  feat_5  feat_6  feat_7  feat_8  feat_9  \\\n",
       "0   1       1       0       0       0       0       0       0       0       0   \n",
       "1   2       0       0       0       0       0       0       0       1       0   \n",
       "2   3       0       0       0       0       0       0       0       1       0   \n",
       "3   4       1       0       0       1       6       1       5       0       0   \n",
       "4   5       0       0       0       0       0       0       0       0       0   \n",
       "\n",
       "    ...     feat_85  feat_86  feat_87  feat_88  feat_89  feat_90  feat_91  \\\n",
       "0   ...           1        0        0        0        0        0        0   \n",
       "1   ...           0        0        0        0        0        0        0   \n",
       "2   ...           0        0        0        0        0        0        0   \n",
       "3   ...           0        1        2        0        0        0        0   \n",
       "4   ...           1        0        0        0        0        1        0   \n",
       "\n",
       "   feat_92  feat_93   target  \n",
       "0        0        0  Class_1  \n",
       "1        0        0  Class_1  \n",
       "2        0        0  Class_1  \n",
       "3        0        0  Class_1  \n",
       "4        0        0  Class_1  \n",
       "\n",
       "[5 rows x 95 columns]"
      ]
     },
     "execution_count": 2,
     "metadata": {},
     "output_type": "execute_result"
    }
   ],
   "source": [
    "import pandas as pd\n",
    "\n",
    "df = pd.read_csv('data/train.csv')\n",
    "print(df.shape)\n",
    "df.head()"
   ]
  },
  {
   "cell_type": "code",
   "execution_count": 3,
   "metadata": {},
   "outputs": [
    {
     "name": "stdout",
     "output_type": "stream",
     "text": [
      "(61878,)\n",
      "(61878, 93)\n"
     ]
    },
    {
     "data": {
      "text/html": [
       "<div>\n",
       "<style scoped>\n",
       "    .dataframe tbody tr th:only-of-type {\n",
       "        vertical-align: middle;\n",
       "    }\n",
       "\n",
       "    .dataframe tbody tr th {\n",
       "        vertical-align: top;\n",
       "    }\n",
       "\n",
       "    .dataframe thead th {\n",
       "        text-align: right;\n",
       "    }\n",
       "</style>\n",
       "<table border=\"1\" class=\"dataframe\">\n",
       "  <thead>\n",
       "    <tr style=\"text-align: right;\">\n",
       "      <th></th>\n",
       "      <th>feat_1</th>\n",
       "      <th>feat_2</th>\n",
       "      <th>feat_3</th>\n",
       "      <th>feat_4</th>\n",
       "      <th>feat_5</th>\n",
       "      <th>feat_6</th>\n",
       "      <th>feat_7</th>\n",
       "      <th>feat_8</th>\n",
       "      <th>feat_9</th>\n",
       "      <th>feat_10</th>\n",
       "      <th>...</th>\n",
       "      <th>feat_84</th>\n",
       "      <th>feat_85</th>\n",
       "      <th>feat_86</th>\n",
       "      <th>feat_87</th>\n",
       "      <th>feat_88</th>\n",
       "      <th>feat_89</th>\n",
       "      <th>feat_90</th>\n",
       "      <th>feat_91</th>\n",
       "      <th>feat_92</th>\n",
       "      <th>feat_93</th>\n",
       "    </tr>\n",
       "  </thead>\n",
       "  <tbody>\n",
       "    <tr>\n",
       "      <th>0</th>\n",
       "      <td>1</td>\n",
       "      <td>0</td>\n",
       "      <td>0</td>\n",
       "      <td>0</td>\n",
       "      <td>0</td>\n",
       "      <td>0</td>\n",
       "      <td>0</td>\n",
       "      <td>0</td>\n",
       "      <td>0</td>\n",
       "      <td>0</td>\n",
       "      <td>...</td>\n",
       "      <td>0</td>\n",
       "      <td>1</td>\n",
       "      <td>0</td>\n",
       "      <td>0</td>\n",
       "      <td>0</td>\n",
       "      <td>0</td>\n",
       "      <td>0</td>\n",
       "      <td>0</td>\n",
       "      <td>0</td>\n",
       "      <td>0</td>\n",
       "    </tr>\n",
       "  </tbody>\n",
       "</table>\n",
       "<p>1 rows × 93 columns</p>\n",
       "</div>"
      ],
      "text/plain": [
       "   feat_1  feat_2  feat_3  feat_4  feat_5  feat_6  feat_7  feat_8  feat_9  \\\n",
       "0       1       0       0       0       0       0       0       0       0   \n",
       "\n",
       "   feat_10   ...     feat_84  feat_85  feat_86  feat_87  feat_88  feat_89  \\\n",
       "0        0   ...           0        1        0        0        0        0   \n",
       "\n",
       "   feat_90  feat_91  feat_92  feat_93  \n",
       "0        0        0        0        0  \n",
       "\n",
       "[1 rows x 93 columns]"
      ]
     },
     "execution_count": 3,
     "metadata": {},
     "output_type": "execute_result"
    }
   ],
   "source": [
    "#Keep y (targets) for evaluation of clustering \n",
    "y = df.iloc[:,-1:].target\n",
    "print(y.shape)\n",
    "X = df.iloc[:,:-1].drop(['id'], axis=1)\n",
    "print(X.shape)\n",
    "X.head(1)"
   ]
  },
  {
   "cell_type": "code",
   "execution_count": 4,
   "metadata": {},
   "outputs": [
    {
     "data": {
      "text/plain": [
       "Class_2    16122\n",
       "Class_6    14135\n",
       "Class_8     8464\n",
       "Class_3     8004\n",
       "Class_9     4955\n",
       "Class_7     2839\n",
       "Class_5     2739\n",
       "Class_4     2691\n",
       "Class_1     1929\n",
       "Name: target, dtype: int64"
      ]
     },
     "execution_count": 4,
     "metadata": {},
     "output_type": "execute_result"
    }
   ],
   "source": [
    "y.value_counts()"
   ]
  },
  {
   "cell_type": "markdown",
   "metadata": {},
   "source": [
    "<br> \n",
    "### Data Exploration"
   ]
  },
  {
   "cell_type": "code",
   "execution_count": 4,
   "metadata": {},
   "outputs": [
    {
     "data": {
      "text/html": [
       "<div>\n",
       "<style scoped>\n",
       "    .dataframe tbody tr th:only-of-type {\n",
       "        vertical-align: middle;\n",
       "    }\n",
       "\n",
       "    .dataframe tbody tr th {\n",
       "        vertical-align: top;\n",
       "    }\n",
       "\n",
       "    .dataframe thead th {\n",
       "        text-align: right;\n",
       "    }\n",
       "</style>\n",
       "<table border=\"1\" class=\"dataframe\">\n",
       "  <thead>\n",
       "    <tr style=\"text-align: right;\">\n",
       "      <th></th>\n",
       "      <th>feat_1</th>\n",
       "      <th>feat_2</th>\n",
       "      <th>feat_3</th>\n",
       "      <th>feat_4</th>\n",
       "      <th>feat_5</th>\n",
       "      <th>feat_6</th>\n",
       "      <th>feat_7</th>\n",
       "      <th>feat_8</th>\n",
       "      <th>feat_9</th>\n",
       "      <th>feat_10</th>\n",
       "      <th>...</th>\n",
       "      <th>feat_84</th>\n",
       "      <th>feat_85</th>\n",
       "      <th>feat_86</th>\n",
       "      <th>feat_87</th>\n",
       "      <th>feat_88</th>\n",
       "      <th>feat_89</th>\n",
       "      <th>feat_90</th>\n",
       "      <th>feat_91</th>\n",
       "      <th>feat_92</th>\n",
       "      <th>feat_93</th>\n",
       "    </tr>\n",
       "  </thead>\n",
       "  <tbody>\n",
       "  </tbody>\n",
       "</table>\n",
       "<p>0 rows × 93 columns</p>\n",
       "</div>"
      ],
      "text/plain": [
       "Empty DataFrame\n",
       "Columns: [feat_1, feat_2, feat_3, feat_4, feat_5, feat_6, feat_7, feat_8, feat_9, feat_10, feat_11, feat_12, feat_13, feat_14, feat_15, feat_16, feat_17, feat_18, feat_19, feat_20, feat_21, feat_22, feat_23, feat_24, feat_25, feat_26, feat_27, feat_28, feat_29, feat_30, feat_31, feat_32, feat_33, feat_34, feat_35, feat_36, feat_37, feat_38, feat_39, feat_40, feat_41, feat_42, feat_43, feat_44, feat_45, feat_46, feat_47, feat_48, feat_49, feat_50, feat_51, feat_52, feat_53, feat_54, feat_55, feat_56, feat_57, feat_58, feat_59, feat_60, feat_61, feat_62, feat_63, feat_64, feat_65, feat_66, feat_67, feat_68, feat_69, feat_70, feat_71, feat_72, feat_73, feat_74, feat_75, feat_76, feat_77, feat_78, feat_79, feat_80, feat_81, feat_82, feat_83, feat_84, feat_85, feat_86, feat_87, feat_88, feat_89, feat_90, feat_91, feat_92, feat_93]\n",
       "Index: []\n",
       "\n",
       "[0 rows x 93 columns]"
      ]
     },
     "execution_count": 4,
     "metadata": {},
     "output_type": "execute_result"
    }
   ],
   "source": [
    "X[X.isnull().any(axis=1)]"
   ]
  },
  {
   "cell_type": "markdown",
   "metadata": {},
   "source": [
    "No NaN, that's nice."
   ]
  },
  {
   "cell_type": "code",
   "execution_count": 5,
   "metadata": {
    "scrolled": true
   },
   "outputs": [
    {
     "name": "stdout",
     "output_type": "stream",
     "text": [
      "feat_1 (min/max): 0 61  -- max = 0 with count 51483\n",
      "feat_2 (min/max): 0 51  -- max = 0 with count 55018\n",
      "feat_3 (min/max): 0 64  -- max = 0 with count 49295\n",
      "feat_4 (min/max): 0 70  -- max = 0 with count 48448\n",
      "feat_5 (min/max): 0 19  -- max = 0 with count 58907\n",
      "feat_6 (min/max): 0 10  -- max = 0 with count 60710\n",
      "feat_7 (min/max): 0 38  -- max = 0 with count 56443\n",
      "feat_8 (min/max): 0 76  -- max = 0 with count 45312\n",
      "feat_9 (min/max): 0 43  -- max = 0 with count 49836\n",
      "feat_10 (min/max): 0 30  -- max = 0 with count 54195\n",
      "feat_11 (min/max): 0 38  -- max = 0 with count 45043\n",
      "feat_12 (min/max): 0 30  -- max = 0 with count 55342\n",
      "feat_13 (min/max): 0 72  -- max = 0 with count 50430\n",
      "feat_14 (min/max): 0 33  -- max = 0 with count 34542\n",
      "feat_15 (min/max): 0 46  -- max = 0 with count 43770\n",
      "feat_16 (min/max): 0 37  -- max = 0 with count 31649\n",
      "feat_17 (min/max): 0 43  -- max = 0 with count 51748\n",
      "feat_18 (min/max): 0 32  -- max = 0 with count 44037\n",
      "feat_19 (min/max): 0 121  -- max = 0 with count 56122\n",
      "feat_20 (min/max): 0 27  -- max = 0 with count 49044\n",
      "feat_21 (min/max): 0 14  -- max = 0 with count 54544\n",
      "feat_22 (min/max): 0 22  -- max = 0 with count 40873\n",
      "feat_23 (min/max): 0 64  -- max = 0 with count 57470\n",
      "feat_24 (min/max): 0 263  -- max = 0 with count 22077\n",
      "feat_25 (min/max): 0 30  -- max = 0 with count 27295\n",
      "feat_26 (min/max): 0 33  -- max = 0 with count 49180\n",
      "feat_27 (min/max): 0 123  -- max = 0 with count 52827\n",
      "feat_28 (min/max): 0 22  -- max = 0 with count 54009\n",
      "feat_29 (min/max): 0 69  -- max = 0 with count 54521\n",
      "feat_30 (min/max): 0 87  -- max = 0 with count 56951\n",
      "feat_31 (min/max): 0 59  -- max = 0 with count 57339\n",
      "feat_32 (min/max): 0 149  -- max = 0 with count 41962\n",
      "feat_33 (min/max): 0 24  -- max = 0 with count 39783\n",
      "feat_34 (min/max): 0 84  -- max = 0 with count 46172\n",
      "feat_35 (min/max): 0 105  -- max = 0 with count 48050\n",
      "feat_36 (min/max): 0 84  -- max = 0 with count 46355\n",
      "feat_37 (min/max): 0 22  -- max = 0 with count 51480\n",
      "feat_38 (min/max): 0 39  -- max = 0 with count 45783\n",
      "feat_39 (min/max): 0 78  -- max = 0 with count 53604\n",
      "feat_40 (min/max): 0 41  -- max = 0 with count 32593\n",
      "feat_41 (min/max): 0 36  -- max = 0 with count 50713\n",
      "feat_42 (min/max): 0 41  -- max = 0 with count 44327\n",
      "feat_43 (min/max): 0 42  -- max = 0 with count 51611\n",
      "feat_44 (min/max): 0 34  -- max = 0 with count 45082\n",
      "feat_45 (min/max): 0 80  -- max = 0 with count 58021\n",
      "feat_46 (min/max): 0 41  -- max = 0 with count 51921\n",
      "feat_47 (min/max): 0 47  -- max = 0 with count 56688\n",
      "feat_48 (min/max): 0 49  -- max = 0 with count 28174\n",
      "feat_49 (min/max): 0 81  -- max = 0 with count 51571\n",
      "feat_50 (min/max): 0 73  -- max = 0 with count 53492\n",
      "feat_51 (min/max): 0 44  -- max = 0 with count 60159\n",
      "feat_52 (min/max): 0 48  -- max = 0 with count 55740\n",
      "feat_53 (min/max): 0 53  -- max = 0 with count 49735\n",
      "feat_54 (min/max): 0 63  -- max = 0 with count 33571\n",
      "feat_55 (min/max): 0 27  -- max = 0 with count 50509\n",
      "feat_56 (min/max): 0 62  -- max = 0 with count 54672\n",
      "feat_57 (min/max): 0 30  -- max = 0 with count 52655\n",
      "feat_58 (min/max): 0 117  -- max = 0 with count 53542\n",
      "feat_59 (min/max): 0 97  -- max = 0 with count 55082\n",
      "feat_60 (min/max): 0 40  -- max = 0 with count 46458\n",
      "feat_61 (min/max): 0 38  -- max = 0 with count 56075\n",
      "feat_62 (min/max): 0 56  -- max = 0 with count 35383\n",
      "feat_63 (min/max): 0 51  -- max = 0 with count 55853\n",
      "feat_64 (min/max): 0 73  -- max = 0 with count 40077\n",
      "feat_65 (min/max): 0 38  -- max = 0 with count 52706\n",
      "feat_66 (min/max): 0 36  -- max = 0 with count 44352\n",
      "feat_67 (min/max): 0 104  -- max = 0 with count 23930\n",
      "feat_68 (min/max): 0 109  -- max = 0 with count 53144\n",
      "feat_69 (min/max): 0 76  -- max = 0 with count 53174\n",
      "feat_70 (min/max): 0 46  -- max = 0 with count 40241\n",
      "feat_71 (min/max): 0 31  -- max = 0 with count 51493\n",
      "feat_72 (min/max): 0 30  -- max = 0 with count 43995\n",
      "feat_73 (min/max): 0 352  -- max = 0 with count 51527\n",
      "feat_74 (min/max): 0 231  -- max = 0 with count 50047\n",
      "feat_75 (min/max): 0 80  -- max = 0 with count 48568\n",
      "feat_76 (min/max): 0 102  -- max = 0 with count 48487\n",
      "feat_77 (min/max): 0 29  -- max = 0 with count 58354\n",
      "feat_78 (min/max): 0 80  -- max = 0 with count 55574\n",
      "feat_79 (min/max): 0 25  -- max = 0 with count 54697\n",
      "feat_80 (min/max): 0 54  -- max = 0 with count 48565\n",
      "feat_81 (min/max): 0 26  -- max = 0 with count 58695\n",
      "feat_82 (min/max): 0 24  -- max = 0 with count 56442\n",
      "feat_83 (min/max): 0 79  -- max = 0 with count 53668\n",
      "feat_84 (min/max): 0 76  -- max = 0 with count 60455\n",
      "feat_85 (min/max): 0 55  -- max = 0 with count 48914\n",
      "feat_86 (min/max): 0 65  -- max = 0 with count 36516\n",
      "feat_87 (min/max): 0 67  -- max = 0 with count 49859\n",
      "feat_88 (min/max): 0 30  -- max = 0 with count 41844\n",
      "feat_89 (min/max): 0 61  -- max = 0 with count 48248\n",
      "feat_90 (min/max): 0 130  -- max = 0 with count 53542\n",
      "feat_91 (min/max): 0 52  -- max = 0 with count 57030\n",
      "feat_92 (min/max): 0 19  -- max = 0 with count 48286\n",
      "feat_93 (min/max): 0 87  -- max = 0 with count 58132\n"
     ]
    }
   ],
   "source": [
    "for col in X.columns: \n",
    "    vc = X[col].value_counts()\n",
    "    print(col, \"(min/max):\", vc.index.min(), vc.index.max(), \n",
    "          ' -- max = {} with count {}'.format(vc.index[0], vc.iloc[0]))"
   ]
  },
  {
   "cell_type": "markdown",
   "metadata": {},
   "source": [
    "All event columns numerical, no boolean events."
   ]
  },
  {
   "cell_type": "code",
   "execution_count": 6,
   "metadata": {},
   "outputs": [
    {
     "data": {
      "image/png": "[encoded data removed]",
      "text/plain": [
       "<matplotlib.figure.Figure at 0x776a34977208>"
      ]
     },
     "metadata": {},
     "output_type": "display_data"
    }
   ],
   "source": [
    "from pandas.plotting import scatter_matrix\n",
    "import matplotlib.pyplot as plt \n",
    "%matplotlib inline\n",
    "\n",
    "plot_1_4 = scatter_matrix(X.iloc[:,:5], alpha=0.3, figsize=(9,9))"
   ]
  },
  {
   "cell_type": "markdown",
   "metadata": {},
   "source": [
    "Feat_3 & Feat_4 e.g. show a different, more collinear distribution than the other relationships."
   ]
  },
  {
   "cell_type": "markdown",
   "metadata": {},
   "source": [
    "<br> \n",
    "### A case for dimensionality reduction?"
   ]
  },
  {
   "cell_type": "markdown",
   "metadata": {},
   "source": [
    "** Why reducing dimensions?** \n",
    "\n",
    "\"There are issues associated with high-dimensional data (albeit most people would consider 30 to be just \"medium\" dimensionality). The most obvious one is that the notion of distance itself is often rather meaningless. Say, your first variable is \"shoe size\", the second is \"age\". How can you expect an euclidean distance function to perform a meaningful distance computation?\"\n",
    "\n",
    "See amongst others: <br>\n",
    "https://en.wikipedia.org/wiki/Clustering_high-dimensional_data <br>\n",
    "https://stats.stackexchange.com/questions/23059/what-is-maximum-number-of-variables-that-we-can-use-to-run-a-cluster-analysis"
   ]
  },
  {
   "cell_type": "code",
   "execution_count": 5,
   "metadata": {},
   "outputs": [
    {
     "name": "stdout",
     "output_type": "stream",
     "text": [
      "93\n"
     ]
    },
    {
     "data": {
      "text/plain": [
       "array([[ 0.40209324, -0.21010603, -0.30716546, -0.27944276, -0.1618665 ,\n",
       "        -0.11933088, -0.18804484, -0.29366381, -0.29103777, -0.24360641,\n",
       "        -0.08311734, -0.24841812, -0.23873688, -0.53638751, -0.3325557 ,\n",
       "        -0.63493568,  1.10590614, -0.43071391, -0.11900038, -0.32774011,\n",
       "        -0.29310534,  0.18671673, -0.18202722,  0.29296323, -0.22911502,\n",
       "         0.25544889, -0.242452  , -0.28857473,  0.90688009, -0.09160521,\n",
       "        -0.16568799, -0.43188648, -0.53161372, -0.28095119,  0.10436012,\n",
       "        -0.27751917, -0.34829162, -0.36324836, -0.14722318, -0.19791048,\n",
       "        -0.27952313,  2.19357545, -0.26444665, -0.41663924, -0.09204472,\n",
       "        -0.2731184 , -0.17263883,  0.16107838, -0.25436135, -0.18848682,\n",
       "        -0.10373056, -0.20433451, -0.22031906, -0.26073202, -0.32352896,\n",
       "        -0.15774054,  1.56254566, -0.17520698, -0.15075752,  3.29214235,\n",
       "        -0.2356121 , -0.07033456,  0.87872903, -0.36942278,  0.99326566,\n",
       "        -0.41979668,  0.82471138, -0.2231081 , -0.19730403, -0.45988003,\n",
       "         0.58559069, -0.35607584, -0.10220147, -0.15430625, -0.22712549,\n",
       "        -0.25631952, -0.13698884, -0.13188472,  1.32203503,  0.13445216,\n",
       "        -0.17010848, -0.2247894 , -0.20399979, -0.06144607,  0.24610028,\n",
       "        -0.42086959, -0.249802  , -0.4135836 , -0.29971189, -0.17669907,\n",
       "        -0.12951551, -0.38693809, -0.10496314]])"
      ]
     },
     "execution_count": 5,
     "metadata": {},
     "output_type": "execute_result"
    }
   ],
   "source": [
    "#Scale X\n",
    "from sklearn.preprocessing import StandardScaler\n",
    "\n",
    "X_scaled = StandardScaler().fit_transform(X)\n",
    "print(len(X_scaled[:1][0]))\n",
    "X_scaled[:1]"
   ]
  },
  {
   "cell_type": "markdown",
   "metadata": {},
   "source": [
    "#### PCA"
   ]
  },
  {
   "cell_type": "code",
   "execution_count": 21,
   "metadata": {},
   "outputs": [
    {
     "data": {
      "text/html": [
       "<div>\n",
       "<style scoped>\n",
       "    .dataframe tbody tr th:only-of-type {\n",
       "        vertical-align: middle;\n",
       "    }\n",
       "\n",
       "    .dataframe tbody tr th {\n",
       "        vertical-align: top;\n",
       "    }\n",
       "\n",
       "    .dataframe thead th {\n",
       "        text-align: right;\n",
       "    }\n",
       "</style>\n",
       "<table border=\"1\" class=\"dataframe\">\n",
       "  <thead>\n",
       "    <tr style=\"text-align: right;\">\n",
       "      <th></th>\n",
       "      <th>0</th>\n",
       "      <th>1</th>\n",
       "      <th>2</th>\n",
       "      <th>3</th>\n",
       "      <th>4</th>\n",
       "      <th>5</th>\n",
       "      <th>6</th>\n",
       "      <th>7</th>\n",
       "      <th>8</th>\n",
       "      <th>9</th>\n",
       "      <th>...</th>\n",
       "      <th>67</th>\n",
       "      <th>68</th>\n",
       "      <th>69</th>\n",
       "      <th>70</th>\n",
       "      <th>71</th>\n",
       "      <th>72</th>\n",
       "      <th>73</th>\n",
       "      <th>74</th>\n",
       "      <th>75</th>\n",
       "      <th>76</th>\n",
       "    </tr>\n",
       "  </thead>\n",
       "  <tbody>\n",
       "    <tr>\n",
       "      <th>0</th>\n",
       "      <td>-0.322226</td>\n",
       "      <td>0.261640</td>\n",
       "      <td>-0.101271</td>\n",
       "      <td>2.371336</td>\n",
       "      <td>-1.969393</td>\n",
       "      <td>0.606056</td>\n",
       "      <td>-0.519601</td>\n",
       "      <td>0.807828</td>\n",
       "      <td>-0.128615</td>\n",
       "      <td>0.343750</td>\n",
       "      <td>...</td>\n",
       "      <td>0.200260</td>\n",
       "      <td>0.963056</td>\n",
       "      <td>0.699243</td>\n",
       "      <td>0.151211</td>\n",
       "      <td>0.018452</td>\n",
       "      <td>0.159116</td>\n",
       "      <td>0.058467</td>\n",
       "      <td>-0.217591</td>\n",
       "      <td>-0.099505</td>\n",
       "      <td>0.039922</td>\n",
       "    </tr>\n",
       "    <tr>\n",
       "      <th>1</th>\n",
       "      <td>-1.617733</td>\n",
       "      <td>-0.431757</td>\n",
       "      <td>-1.121202</td>\n",
       "      <td>0.293595</td>\n",
       "      <td>-0.614387</td>\n",
       "      <td>0.339935</td>\n",
       "      <td>0.290450</td>\n",
       "      <td>0.032317</td>\n",
       "      <td>-0.690445</td>\n",
       "      <td>0.123639</td>\n",
       "      <td>...</td>\n",
       "      <td>0.113155</td>\n",
       "      <td>-0.150796</td>\n",
       "      <td>-0.435511</td>\n",
       "      <td>-0.100994</td>\n",
       "      <td>-0.021727</td>\n",
       "      <td>-0.141727</td>\n",
       "      <td>-0.286881</td>\n",
       "      <td>0.079725</td>\n",
       "      <td>0.034071</td>\n",
       "      <td>0.143423</td>\n",
       "    </tr>\n",
       "  </tbody>\n",
       "</table>\n",
       "<p>2 rows × 77 columns</p>\n",
       "</div>"
      ],
      "text/plain": [
       "         0         1         2         3         4         5         6   \\\n",
       "0 -0.322226  0.261640 -0.101271  2.371336 -1.969393  0.606056 -0.519601   \n",
       "1 -1.617733 -0.431757 -1.121202  0.293595 -0.614387  0.339935  0.290450   \n",
       "\n",
       "         7         8         9     ...           67        68        69  \\\n",
       "0  0.807828 -0.128615  0.343750    ...     0.200260  0.963056  0.699243   \n",
       "1  0.032317 -0.690445  0.123639    ...     0.113155 -0.150796 -0.435511   \n",
       "\n",
       "         70        71        72        73        74        75        76  \n",
       "0  0.151211  0.018452  0.159116  0.058467 -0.217591 -0.099505  0.039922  \n",
       "1 -0.100994 -0.021727 -0.141727 -0.286881  0.079725  0.034071  0.143423  \n",
       "\n",
       "[2 rows x 77 columns]"
      ]
     },
     "execution_count": 21,
     "metadata": {},
     "output_type": "execute_result"
    }
   ],
   "source": [
    "from sklearn.decomposition import PCA \n",
    "\n",
    "pca = PCA(n_components=0.95)\n",
    "X_pca = pca.fit_transform(X_scaled)\n",
    "X_pca = pd.DataFrame(X_pca)\n",
    "X_pca.head(2)"
   ]
  },
  {
   "cell_type": "code",
   "execution_count": 14,
   "metadata": {},
   "outputs": [
    {
     "name": "stdout",
     "output_type": "stream",
     "text": [
      "77 --> n_components for 95% variance\n"
     ]
    },
    {
     "data": {
      "text/html": [
       "<div>\n",
       "<style scoped>\n",
       "    .dataframe tbody tr th:only-of-type {\n",
       "        vertical-align: middle;\n",
       "    }\n",
       "\n",
       "    .dataframe tbody tr th {\n",
       "        vertical-align: top;\n",
       "    }\n",
       "\n",
       "    .dataframe thead th {\n",
       "        text-align: right;\n",
       "    }\n",
       "</style>\n",
       "<table border=\"1\" class=\"dataframe\">\n",
       "  <thead>\n",
       "    <tr style=\"text-align: right;\">\n",
       "      <th></th>\n",
       "      <th>0</th>\n",
       "      <th>1</th>\n",
       "      <th>2</th>\n",
       "      <th>3</th>\n",
       "      <th>4</th>\n",
       "      <th>5</th>\n",
       "      <th>6</th>\n",
       "      <th>7</th>\n",
       "      <th>8</th>\n",
       "      <th>9</th>\n",
       "      <th>...</th>\n",
       "      <th>83</th>\n",
       "      <th>84</th>\n",
       "      <th>85</th>\n",
       "      <th>86</th>\n",
       "      <th>87</th>\n",
       "      <th>88</th>\n",
       "      <th>89</th>\n",
       "      <th>90</th>\n",
       "      <th>91</th>\n",
       "      <th>92</th>\n",
       "    </tr>\n",
       "  </thead>\n",
       "  <tbody>\n",
       "    <tr>\n",
       "      <th>0</th>\n",
       "      <td>0.044369</td>\n",
       "      <td>0.156389</td>\n",
       "      <td>0.197490</td>\n",
       "      <td>0.196720</td>\n",
       "      <td>0.059306</td>\n",
       "      <td>0.039369</td>\n",
       "      <td>0.115713</td>\n",
       "      <td>0.026748</td>\n",
       "      <td>-0.030932</td>\n",
       "      <td>0.080448</td>\n",
       "      <td>...</td>\n",
       "      <td>0.043448</td>\n",
       "      <td>0.018583</td>\n",
       "      <td>-0.021853</td>\n",
       "      <td>0.075182</td>\n",
       "      <td>-0.048764</td>\n",
       "      <td>0.146505</td>\n",
       "      <td>0.093443</td>\n",
       "      <td>0.030394</td>\n",
       "      <td>0.062905</td>\n",
       "      <td>0.045513</td>\n",
       "    </tr>\n",
       "    <tr>\n",
       "      <th>1</th>\n",
       "      <td>0.104932</td>\n",
       "      <td>0.093638</td>\n",
       "      <td>-0.222520</td>\n",
       "      <td>-0.167780</td>\n",
       "      <td>0.049045</td>\n",
       "      <td>0.041489</td>\n",
       "      <td>0.157503</td>\n",
       "      <td>0.101320</td>\n",
       "      <td>0.039431</td>\n",
       "      <td>0.083690</td>\n",
       "      <td>...</td>\n",
       "      <td>0.036530</td>\n",
       "      <td>0.053261</td>\n",
       "      <td>0.074372</td>\n",
       "      <td>0.108306</td>\n",
       "      <td>0.026843</td>\n",
       "      <td>-0.010835</td>\n",
       "      <td>0.132671</td>\n",
       "      <td>0.056072</td>\n",
       "      <td>-0.021188</td>\n",
       "      <td>0.055396</td>\n",
       "    </tr>\n",
       "    <tr>\n",
       "      <th>2</th>\n",
       "      <td>0.076435</td>\n",
       "      <td>-0.134733</td>\n",
       "      <td>-0.038796</td>\n",
       "      <td>-0.015559</td>\n",
       "      <td>0.050859</td>\n",
       "      <td>-0.024598</td>\n",
       "      <td>-0.041817</td>\n",
       "      <td>0.008262</td>\n",
       "      <td>-0.089266</td>\n",
       "      <td>0.065651</td>\n",
       "      <td>...</td>\n",
       "      <td>0.002446</td>\n",
       "      <td>0.124748</td>\n",
       "      <td>0.116562</td>\n",
       "      <td>0.052572</td>\n",
       "      <td>0.107919</td>\n",
       "      <td>0.105651</td>\n",
       "      <td>-0.197879</td>\n",
       "      <td>0.006469</td>\n",
       "      <td>0.129523</td>\n",
       "      <td>0.005681</td>\n",
       "    </tr>\n",
       "    <tr>\n",
       "      <th>3</th>\n",
       "      <td>0.032217</td>\n",
       "      <td>-0.157522</td>\n",
       "      <td>-0.002128</td>\n",
       "      <td>-0.006497</td>\n",
       "      <td>0.089976</td>\n",
       "      <td>0.010589</td>\n",
       "      <td>-0.034312</td>\n",
       "      <td>0.166480</td>\n",
       "      <td>0.081868</td>\n",
       "      <td>-0.068634</td>\n",
       "      <td>...</td>\n",
       "      <td>0.108049</td>\n",
       "      <td>-0.195756</td>\n",
       "      <td>-0.121739</td>\n",
       "      <td>0.066873</td>\n",
       "      <td>-0.168428</td>\n",
       "      <td>-0.003083</td>\n",
       "      <td>-0.195190</td>\n",
       "      <td>0.068125</td>\n",
       "      <td>0.139933</td>\n",
       "      <td>0.024322</td>\n",
       "    </tr>\n",
       "    <tr>\n",
       "      <th>4</th>\n",
       "      <td>0.102620</td>\n",
       "      <td>-0.150351</td>\n",
       "      <td>0.110975</td>\n",
       "      <td>-0.011886</td>\n",
       "      <td>0.134273</td>\n",
       "      <td>0.060971</td>\n",
       "      <td>0.052646</td>\n",
       "      <td>0.048728</td>\n",
       "      <td>0.233957</td>\n",
       "      <td>0.065139</td>\n",
       "      <td>...</td>\n",
       "      <td>0.184050</td>\n",
       "      <td>0.039928</td>\n",
       "      <td>0.133665</td>\n",
       "      <td>0.030702</td>\n",
       "      <td>0.095635</td>\n",
       "      <td>0.024943</td>\n",
       "      <td>-0.138435</td>\n",
       "      <td>-0.028728</td>\n",
       "      <td>-0.122777</td>\n",
       "      <td>0.014957</td>\n",
       "    </tr>\n",
       "  </tbody>\n",
       "</table>\n",
       "<p>5 rows × 93 columns</p>\n",
       "</div>"
      ],
      "text/plain": [
       "         0         1         2         3         4         5         6   \\\n",
       "0  0.044369  0.156389  0.197490  0.196720  0.059306  0.039369  0.115713   \n",
       "1  0.104932  0.093638 -0.222520 -0.167780  0.049045  0.041489  0.157503   \n",
       "2  0.076435 -0.134733 -0.038796 -0.015559  0.050859 -0.024598 -0.041817   \n",
       "3  0.032217 -0.157522 -0.002128 -0.006497  0.089976  0.010589 -0.034312   \n",
       "4  0.102620 -0.150351  0.110975 -0.011886  0.134273  0.060971  0.052646   \n",
       "\n",
       "         7         8         9     ...           83        84        85  \\\n",
       "0  0.026748 -0.030932  0.080448    ...     0.043448  0.018583 -0.021853   \n",
       "1  0.101320  0.039431  0.083690    ...     0.036530  0.053261  0.074372   \n",
       "2  0.008262 -0.089266  0.065651    ...     0.002446  0.124748  0.116562   \n",
       "3  0.166480  0.081868 -0.068634    ...     0.108049 -0.195756 -0.121739   \n",
       "4  0.048728  0.233957  0.065139    ...     0.184050  0.039928  0.133665   \n",
       "\n",
       "         86        87        88        89        90        91        92  \n",
       "0  0.075182 -0.048764  0.146505  0.093443  0.030394  0.062905  0.045513  \n",
       "1  0.108306  0.026843 -0.010835  0.132671  0.056072 -0.021188  0.055396  \n",
       "2  0.052572  0.107919  0.105651 -0.197879  0.006469  0.129523  0.005681  \n",
       "3  0.066873 -0.168428 -0.003083 -0.195190  0.068125  0.139933  0.024322  \n",
       "4  0.030702  0.095635  0.024943 -0.138435 -0.028728 -0.122777  0.014957  \n",
       "\n",
       "[5 rows x 93 columns]"
      ]
     },
     "execution_count": 14,
     "metadata": {},
     "output_type": "execute_result"
    }
   ],
   "source": [
    "X_pca_loadings = pd.DataFrame(pca.components_)\n",
    "print(len(X_pca_loadings), '--> n_components for 95% variance')\n",
    "X_pca_loadings.head()"
   ]
  },
  {
   "cell_type": "code",
   "execution_count": 18,
   "metadata": {},
   "outputs": [
    {
     "data": {
      "text/plain": [
       "Text(0,0.5,'Cumulated explained Variance')"
      ]
     },
     "execution_count": 18,
     "metadata": {},
     "output_type": "execute_result"
    },
    {
     "data": {
      "image/png": "[encoded data removed]",
      "text/plain": [
       "<matplotlib.figure.Figure at 0x7792c5c87518>"
      ]
     },
     "metadata": {},
     "output_type": "display_data"
    }
   ],
   "source": [
    "import numpy as np\n",
    "\n",
    "cumsum = np.cumsum(pca.explained_variance_ratio_)\n",
    "plt.plot(cumsum)\n",
    "plt.xlabel('Dimensions')\n",
    "plt.ylabel('Cumulated explained Variance')"
   ]
  },
  {
   "cell_type": "markdown",
   "metadata": {},
   "source": [
    "Not a whole lot of feature reduction through PCA."
   ]
  },
  {
   "cell_type": "markdown",
   "metadata": {},
   "source": [
    "#### Kernel PCA \n",
    "\n",
    "Undoable with the whole dataset, see https://stats.stackexchange.com/questions/348574/memoryerror-for-scikitlearn-kernel-pca."
   ]
  },
  {
   "cell_type": "markdown",
   "metadata": {},
   "source": [
    "<br> \n",
    "### K-Means Clustering "
   ]
  },
  {
   "cell_type": "markdown",
   "metadata": {},
   "source": [
    "#### Tryout with 5 clusters"
   ]
  },
  {
   "cell_type": "code",
   "execution_count": 6,
   "metadata": {},
   "outputs": [
    {
     "data": {
      "text/plain": [
       "array([0, 0, 0, ..., 0, 0, 0], dtype=int32)"
      ]
     },
     "execution_count": 6,
     "metadata": {},
     "output_type": "execute_result"
    }
   ],
   "source": [
    "from sklearn.cluster import KMeans\n",
    "\n",
    "k_means = KMeans(n_clusters=5)\n",
    "k_means.fit_predict(X_scaled)"
   ]
  },
  {
   "cell_type": "code",
   "execution_count": 7,
   "metadata": {},
   "outputs": [
    {
     "name": "stdout",
     "output_type": "stream",
     "text": [
      "5\n",
      "93\n"
     ]
    },
    {
     "data": {
      "text/plain": [
       "array([-1.84835087e-01, -1.72762809e-01, -2.11822651e-01, -1.60488664e-01,\n",
       "        5.03684896e-02, -6.71511300e-02, -1.00431336e-01, -1.73155125e-01,\n",
       "       -2.23028711e-01,  7.32114668e-03, -3.57012332e-01,  1.21008878e-01,\n",
       "       -1.05967375e-01, -1.54135655e-01,  3.73235751e+00,  1.72734979e+00,\n",
       "       -1.75184794e-01, -1.23601968e-01, -9.33573881e-02, -4.10479678e-02,\n",
       "        4.04150071e-01,  3.77689876e-01, -9.36103940e-02, -3.06503632e-01,\n",
       "        7.70988802e-02, -1.72211903e-01, -1.78494625e-01, -1.21816310e-01,\n",
       "       -5.50639868e-02, -5.00779808e-02, -8.65210554e-02, -2.97064090e-01,\n",
       "        1.26571047e+00, -1.91215417e-01, -7.86818069e-02, -2.11982769e-01,\n",
       "        1.38692399e-01,  2.45597725e-01, -1.07992320e-01,  3.22296531e-01,\n",
       "       -5.38396963e-02, -7.70362290e-02,  8.06332692e-01,  3.76880719e-01,\n",
       "       -6.73873965e-02, -1.80358191e-01, -1.52588905e-01, -3.06145436e-01,\n",
       "       -1.18843057e-01,  3.79845006e-02, -1.01614331e-01, -8.77709642e-02,\n",
       "        1.54171554e-02,  2.98281925e-01, -8.80008543e-02, -4.76385371e-02,\n",
       "       -2.57845671e-01, -1.54462732e-01, -6.69530900e-02, -2.66720401e-01,\n",
       "       -2.01773043e-01,  5.14104497e-01,  9.15024400e-02, -1.86176249e-01,\n",
       "        2.88774010e-01, -1.81870834e-02, -3.03673339e-01, -1.60334206e-01,\n",
       "       -1.74381212e-01,  1.01280850e+00, -9.53866995e-02,  3.49081900e+00,\n",
       "       -7.24944277e-02, -8.50530088e-02, -1.59280818e-01, -2.22060696e-01,\n",
       "       -5.42334624e-02, -1.21839467e-01, -1.36157337e-01, -1.85282866e-01,\n",
       "       -6.79522991e-02, -1.71912519e-01, -1.90602733e-01, -5.89278587e-02,\n",
       "        2.27689578e+00,  7.10964468e-04, -6.09206836e-02, -3.21922586e-02,\n",
       "        1.94590328e-01, -1.55493324e-01, -1.20302009e-01, -2.12079921e-03,\n",
       "       -6.75632627e-02])"
      ]
     },
     "execution_count": 7,
     "metadata": {},
     "output_type": "execute_result"
    }
   ],
   "source": [
    "#must be five\n",
    "print(len(k_means.cluster_centers_))\n",
    "\n",
    "#must be 93 if original feature space \n",
    "print(len(k_means.cluster_centers_[1]))\n",
    "\n",
    "#first cluster center\n",
    "k_means.cluster_centers_[1] "
   ]
  },
  {
   "cell_type": "code",
   "execution_count": 8,
   "metadata": {},
   "outputs": [
    {
     "data": {
      "text/plain": [
       "array([0, 0, 0, ..., 0, 0, 0], dtype=int32)"
      ]
     },
     "execution_count": 8,
     "metadata": {},
     "output_type": "execute_result"
    }
   ],
   "source": [
    "#labels holds assigned clusters\n",
    "k_means.labels_"
   ]
  },
  {
   "cell_type": "code",
   "execution_count": 9,
   "metadata": {},
   "outputs": [
    {
     "data": {
      "text/plain": [
       "4915856.955984189"
      ]
     },
     "execution_count": 9,
     "metadata": {},
     "output_type": "execute_result"
    }
   ],
   "source": [
    "#interia holds the within-cluster sum-of-squares\n",
    "k_means.inertia_"
   ]
  },
  {
   "cell_type": "markdown",
   "metadata": {},
   "source": [
    "#### Can we find an ideal cluster no.?\n",
    "\n",
    "Let's assume for simplicity that we know we have at least 4 clusters in our data. We'll examine two methods for determining the optimal number of clusters.\n",
    "\n",
    "*1) Elbow Criterion Method:*\n",
    "\n",
    "The idea behind the elbow method is to run k-means clustering on a given dataset for a range of values of k (num_clusters, e.g k=4 to 12), and for each value of k, calculate sum of squared errors (SSE). "
   ]
  },
  {
   "cell_type": "code",
   "execution_count": 12,
   "metadata": {},
   "outputs": [
    {
     "data": {
      "image/png": "[encoded data removed]",
      "text/plain": [
       "<matplotlib.figure.Figure at 0x7e4a997fd4e0>"
      ]
     },
     "metadata": {},
     "output_type": "display_data"
    }
   ],
   "source": [
    "from sklearn.cluster import KMeans\n",
    "\n",
    "sse = {}\n",
    "predictions = {}\n",
    "\n",
    "for k in range(2, 15):\n",
    "    kmeans = KMeans(n_clusters=k).fit(X_scaled)\n",
    "    predictions[k] = kmeans.labels_\n",
    "    sse[k] = kmeans.inertia_ \n",
    "\n",
    "plt.figure()\n",
    "plt.plot(list(sse.keys()), list(sse.values()))\n",
    "plt.title('Ellbow Criterion')\n",
    "plt.xlabel(\"Number of clusters\")\n",
    "plt.ylabel(\"SSE\")\n",
    "plt.show()"
   ]
  },
  {
   "cell_type": "markdown",
   "metadata": {},
   "source": [
    "In our case, the the ellbow criterion does not indicate much. "
   ]
  },
  {
   "cell_type": "markdown",
   "metadata": {},
   "source": [
    "*2) The Silhouette Coefficient*: \n",
    "\n",
    "Is defined for each sample and is composed of two scores:\n",
    "- a: The mean distance between a sample and all other points in the same class.\n",
    "- b: The mean distance between a sample and all other points in the next nearest cluster.\n",
    "\n",
    "The Silhouette Coefficient s for a single sample is then given as: $$ s = \\frac{b - a}{max(a, b)} $$"
   ]
  },
  {
   "cell_type": "code",
   "execution_count": 16,
   "metadata": {},
   "outputs": [],
   "source": [
    "#from sklearn.metrics import silhouette_score\n",
    "\n",
    "#for k in range(2, 15):\n",
    "#    sil_coeff = silhouette_score(X, predictions[k], metric='euclidean')\n",
    "#    print(\"For n_clusters={}, The Silhouette Coefficient is {}\".format(k, sil_coeff))"
   ]
  },
  {
   "cell_type": "markdown",
   "metadata": {},
   "source": [
    "However, computing the *silhouette_score* turns out to be very memory intense - leading to a dying Kernel on my Acer Chromebook 14 (Crouton). See Issue: https://stackoverflow.com/questions/32573948/ipython-notebook-kernel-getting-dead-while-running-kmeans. "
   ]
  },
  {
   "cell_type": "markdown",
   "metadata": {},
   "source": [
    "*3) Calinski-Harabaz Index*: <br><br>\n",
    "Another method is the Calinski-Harabaz Index, given as the ratio of the between-clusters dispersion mean and the within-cluster dispersion. <br> See details on [scikit-learn](http://scikit-learn.org/stable/modules/clustering.html#calinski-harabaz). "
   ]
  },
  {
   "cell_type": "code",
   "execution_count": 13,
   "metadata": {},
   "outputs": [
    {
     "name": "stdout",
     "output_type": "stream",
     "text": [
      "For n_clusters=2, C-H-Score is 3841.1193711981796\n",
      "For n_clusters=3, C-H-Score is 3579.707446437578\n",
      "For n_clusters=4, C-H-Score is 2969.4818486704366\n",
      "For n_clusters=5, C-H-Score is 2629.6436231082716\n",
      "For n_clusters=6, C-H-Score is 2442.964800386682\n",
      "For n_clusters=7, C-H-Score is 2295.9416055657666\n",
      "For n_clusters=8, C-H-Score is 2175.52328593789\n",
      "For n_clusters=9, C-H-Score is 2111.024109540754\n",
      "For n_clusters=10, C-H-Score is 2025.8182779099377\n",
      "For n_clusters=11, C-H-Score is 1995.6914609227065\n",
      "For n_clusters=12, C-H-Score is 1936.753815111917\n",
      "For n_clusters=13, C-H-Score is 1928.9972585308233\n",
      "For n_clusters=14, C-H-Score is 1853.9124848195527\n"
     ]
    }
   ],
   "source": [
    "from sklearn import metrics\n",
    "\n",
    "for k in range(2, 15):\n",
    "    print(\"For n_clusters={}, C-H-Score is {}\".format(k,\n",
    "          metrics.calinski_harabaz_score(X_scaled, predictions[k])))"
   ]
  },
  {
   "cell_type": "markdown",
   "metadata": {},
   "source": [
    "According to C-H Index, we'd opt for two clusters. "
   ]
  },
  {
   "cell_type": "markdown",
   "metadata": {},
   "source": [
    "**Presuming, we know that we have 9 clusters - how well would K-Means actually do?**"
   ]
  },
  {
   "cell_type": "code",
   "execution_count": 10,
   "metadata": {},
   "outputs": [
    {
     "data": {
      "text/plain": [
       "array(['Class_1', 'Class_2', 'Class_3', 'Class_4', 'Class_5', 'Class_6',\n",
       "       'Class_7', 'Class_8', 'Class_9'], dtype=object)"
      ]
     },
     "execution_count": 10,
     "metadata": {},
     "output_type": "execute_result"
    }
   ],
   "source": [
    "y.unique()"
   ]
  },
  {
   "cell_type": "markdown",
   "metadata": {},
   "source": [
    "If C is a ground truth class assignment and K the clustering, let us define  and  as:\n",
    "\n",
    "- the number of pairs of elements that are in the same set in C and in the same set in K\n",
    "-  the number of pairs of elements that are in different sets in C and in different sets in K\n",
    "\n",
    "The raw (unadjusted) Rand index is then given by: <br><br>\n",
    "$\n",
    "\\begin{align}\n",
    "\\text{RI} = \\frac{a + b}{C_2^{n_{samples}}}\n",
    "\\end{align}\n",
    "$\n",
    "\n",
    "Where $\n",
    "\\begin{align}\n",
    "{C_2^{n_{samples}}}\n",
    "\\end{align} $\n",
    "is the total number of possible pairs in the dataset (without ordering)."
   ]
  },
  {
   "cell_type": "code",
   "execution_count": 14,
   "metadata": {},
   "outputs": [
    {
     "data": {
      "text/plain": [
       "0.08722640902547582"
      ]
     },
     "execution_count": 14,
     "metadata": {},
     "output_type": "execute_result"
    }
   ],
   "source": [
    "kmeans = KMeans(n_clusters=9).fit(X_scaled)\n",
    "y_pred = kmeans.labels_\n",
    "\n",
    "metrics.adjusted_rand_score(y, y_pred)"
   ]
  },
  {
   "cell_type": "code",
   "execution_count": 15,
   "metadata": {},
   "outputs": [
    {
     "data": {
      "text/plain": [
       "2    28523\n",
       "1    11286\n",
       "3     5128\n",
       "8     4621\n",
       "6     3544\n",
       "5     3219\n",
       "0     2728\n",
       "4     2506\n",
       "7      323\n",
       "Name: y_pred, dtype: int64"
      ]
     },
     "execution_count": 15,
     "metadata": {},
     "output_type": "execute_result"
    }
   ],
   "source": [
    "#Throw results in a df\n",
    "y_df_kmeans = pd.DataFrame()\n",
    "y_df_kmeans['y'] = y\n",
    "y_df_kmeans['y_pred'] = y_pred\n",
    "\n",
    "#Explore predictions\n",
    "y_df_kmeans['y_pred'].value_counts()"
   ]
  },
  {
   "cell_type": "markdown",
   "metadata": {},
   "source": [
    "Not so well, one very dominant cluster prediction (label 2)."
   ]
  },
  {
   "cell_type": "markdown",
   "metadata": {},
   "source": [
    "**Let's modify our data a little, simulating we have only 4, 3 and 2 clusters (with the most frequent classes utilized).**"
   ]
  },
  {
   "cell_type": "code",
   "execution_count": 26,
   "metadata": {},
   "outputs": [
    {
     "data": {
      "text/plain": [
       "Class_2    16122\n",
       "Class_6    14135\n",
       "Class_8     8464\n",
       "Class_3     8004\n",
       "Class_9     4955\n",
       "Class_7     2839\n",
       "Class_5     2739\n",
       "Class_4     2691\n",
       "Class_1     1929\n",
       "Name: target, dtype: int64"
      ]
     },
     "execution_count": 26,
     "metadata": {},
     "output_type": "execute_result"
    }
   ],
   "source": [
    "y.value_counts()"
   ]
  },
  {
   "cell_type": "code",
   "execution_count": 17,
   "metadata": {},
   "outputs": [],
   "source": [
    "from sklearn.cluster import KMeans\n",
    "from sklearn import metrics\n",
    "\n",
    "classes = list(y.value_counts().index) \n",
    "\n",
    "def do_clustering(k, X): \n",
    "\n",
    "    #Concat X with y to filter classes\n",
    "    X['target'] = y\n",
    "    X = X[X.target.isin(classes[:k])]\n",
    "    y_new = X.iloc[:,-1:]\n",
    "    X = X.iloc[:,:-1]\n",
    "    \n",
    "    #Clustering \n",
    "    clustering = KMeans(n_clusters=k).fit(X)\n",
    "        \n",
    "    y_pred = clustering.labels_\n",
    "    \n",
    "    #Return adj rand score\n",
    "    return metrics.adjusted_rand_score(y_new.target, y_pred)"
   ]
  },
  {
   "cell_type": "code",
   "execution_count": 27,
   "metadata": {},
   "outputs": [
    {
     "name": "stdout",
     "output_type": "stream",
     "text": [
      "\n",
      " 9 clusters:\n",
      "0.14840541682895106\n",
      "\n",
      " 8 clusters:\n",
      "0.14502423634523454\n",
      "\n",
      " 7 clusters:\n",
      "0.15465993451815244\n",
      "\n",
      " 6 clusters:\n",
      "0.17749827888672537\n",
      "\n",
      " 5 clusters:\n",
      "0.16932542013364354\n",
      "\n",
      " 4 clusters:\n",
      "0.06898660599015258\n",
      "\n",
      " 3 clusters:\n",
      "0.12968500699672258\n",
      "\n",
      " 2 clusters:\n",
      "0.17566061983723205\n"
     ]
    }
   ],
   "source": [
    "for k in range(9,1,-1): \n",
    "    print('\\n {} clusters:'.format(k))\n",
    "    print(do_clustering(k,pd.DataFrame(X_scaled)))"
   ]
  },
  {
   "cell_type": "markdown",
   "metadata": {},
   "source": [
    "Could be better..."
   ]
  },
  {
   "cell_type": "markdown",
   "metadata": {},
   "source": [
    "**Any notable difference in the PCA transformed dataset?**"
   ]
  },
  {
   "cell_type": "code",
   "execution_count": 28,
   "metadata": {},
   "outputs": [
    {
     "name": "stdout",
     "output_type": "stream",
     "text": [
      "\n",
      " 9 clusters:\n",
      "0.1420412532364865\n",
      "\n",
      " 8 clusters:\n",
      "0.12961996461822417\n",
      "\n",
      " 7 clusters:\n",
      "0.15420983762062546\n",
      "\n",
      " 6 clusters:\n",
      "0.14792830384669337\n",
      "\n",
      " 5 clusters:\n",
      "0.17120706178662917\n",
      "\n",
      " 4 clusters:\n",
      "0.0692961964453452\n",
      "\n",
      " 3 clusters:\n",
      "0.12973108255994786\n",
      "\n",
      " 2 clusters:\n",
      "0.17510060948805262\n"
     ]
    }
   ],
   "source": [
    "for k in range(9,1,-1): \n",
    "    print('\\n {} clusters:'.format(k))\n",
    "    print(do_clustering(k, pd.DataFrame(X_pca)))"
   ]
  },
  {
   "cell_type": "markdown",
   "metadata": {},
   "source": [
    "### Hierarchical Clustering "
   ]
  },
  {
   "cell_type": "markdown",
   "metadata": {},
   "source": [
    "Dying Kernel. From [Wiki](https://en.wikipedia.org/wiki/Hierarchical_clustering): The standard algorithm for hierarchical agglomerative clustering (HAC) has a time complexity of $ {\\mathcal {O}}(n^{3})$ and requires $ {\\mathcal {O}}(n^{2}) $ memory, which makes it too slow for even medium data sets. "
   ]
  }
 ],
 "metadata": {
  "kernelspec": {
   "display_name": "Python 3",
   "language": "python",
   "name": "python3"
  },
  "language_info": {
   "codemirror_mode": {
    "name": "ipython",
    "version": 3
   },
   "file_extension": ".py",
   "mimetype": "text/x-python",
   "name": "python",
   "nbconvert_exporter": "python",
   "pygments_lexer": "ipython3",
   "version": "3.6.4"
  }
 },
 "nbformat": 4,
 "nbformat_minor": 2
}
