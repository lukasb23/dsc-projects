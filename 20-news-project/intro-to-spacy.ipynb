{
 "cells": [
  {
   "cell_type": "markdown",
   "metadata": {},
   "source": [
    "## Intro to Spacy"
   ]
  },
  {
   "cell_type": "markdown",
   "metadata": {},
   "source": [
    "When working with Jupyterlab in Googles Deep Learning VM, it turns out to be necessary to install the Python packages directly from Jupyterlab cells - and not via pip: \n",
    "\n",
    "**To install spacy (or any other package):**\n",
    "\n",
    "    import sys\n",
    "    !{sys.executable} -m pip install spacy scipy\n",
    "\n",
    "**To get embeddings into spacy:**\n",
    "\n",
    "    !python3 -m spacy download en_core_web_lg"
   ]
  },
  {
   "cell_type": "markdown",
   "metadata": {},
   "source": [
    "### Getting Started with Spacy (English)"
   ]
  },
  {
   "cell_type": "markdown",
   "metadata": {},
   "source": [
    "- Removing Stopwords \n",
    "- Lemmatizing"
   ]
  },
  {
   "cell_type": "code",
   "execution_count": 45,
   "metadata": {},
   "outputs": [],
   "source": [
    "#Imports \n",
    "import spacy \n",
    "from spacy.lang.en import English\n",
    "nlp = English()\n",
    "\n",
    "#Doc\n",
    "doc = nlp('''In what manner has Republican backing of \"states rights\" been hypocritical\n",
    "and what ways have they actually restricted the ability of states to make their own laws?''')"
   ]
  },
  {
   "cell_type": "code",
   "execution_count": 46,
   "metadata": {},
   "outputs": [
    {
     "data": {
      "text/plain": [
       "manner has Republican"
      ]
     },
     "execution_count": 46,
     "metadata": {},
     "output_type": "execute_result"
    }
   ],
   "source": [
    "doc[2:5]"
   ]
  },
  {
   "cell_type": "markdown",
   "metadata": {},
   "source": [
    "#### Stopwords"
   ]
  },
  {
   "cell_type": "code",
   "execution_count": 47,
   "metadata": {},
   "outputs": [
    {
     "name": "stdout",
     "output_type": "stream",
     "text": [
      "305\n"
     ]
    },
    {
     "data": {
      "text/plain": [
       "['however', 'are', 'never', 'quite', 'neither']"
      ]
     },
     "execution_count": 47,
     "metadata": {},
     "output_type": "execute_result"
    }
   ],
   "source": [
    "from spacy.lang.en import STOP_WORDS\n",
    "\n",
    "stopwords = list(STOP_WORDS)\n",
    "print(len(stopwords))\n",
    "stopwords[:5]"
   ]
  },
  {
   "cell_type": "code",
   "execution_count": 48,
   "metadata": {},
   "outputs": [
    {
     "name": "stdout",
     "output_type": "stream",
     "text": [
      "what | has | of | been | and | what | have | they | the | of | to | make | their | own | "
     ]
    }
   ],
   "source": [
    "for word in doc: \n",
    "    if word.is_stop:\n",
    "        print(word.text, end=\" | \")"
   ]
  },
  {
   "cell_type": "markdown",
   "metadata": {},
   "source": [
    "#### Lemmas"
   ]
  },
  {
   "cell_type": "code",
   "execution_count": 49,
   "metadata": {},
   "outputs": [
    {
     "name": "stdout",
     "output_type": "stream",
     "text": [
      "In --> Lemma: In | what --> Lemma: what | manner --> Lemma: manner | has --> Lemma: have | Republican --> Lemma: Republican | backing --> Lemma: back | of --> Lemma: of | \" --> Lemma: \" | states --> Lemma: state | rights --> Lemma: right | \" --> Lemma: \" | been --> Lemma: be | hypocritical --> Lemma: hypocritical | \n",
      " --> Lemma: \n",
      " | and --> Lemma: and | what --> Lemma: what | ways --> Lemma: way | have --> Lemma: have | they --> Lemma: they | actually --> Lemma: actually | restricted --> Lemma: restrict | the --> Lemma: the | ability --> Lemma: ability | of --> Lemma: of | states --> Lemma: state | to --> Lemma: to | make --> Lemma: make | their --> Lemma: their | own --> Lemma: own | laws --> Lemma: law | ? --> Lemma: ? | "
     ]
    }
   ],
   "source": [
    "for word in doc: \n",
    "    print(word.text, '--> Lemma:', word.lemma_, end=' | ')"
   ]
  },
  {
   "cell_type": "markdown",
   "metadata": {},
   "source": [
    "#### Punctuation \n"
   ]
  },
  {
   "cell_type": "code",
   "execution_count": 50,
   "metadata": {},
   "outputs": [
    {
     "data": {
      "text/plain": [
       "'!\"#$%&\\'()*+,-./:;<=>?@[\\\\]^_`{|}~'"
      ]
     },
     "execution_count": 50,
     "metadata": {},
     "output_type": "execute_result"
    }
   ],
   "source": [
    "import string\n",
    "\n",
    "punctuations = string.punctuation\n",
    "punctuations"
   ]
  },
  {
   "cell_type": "markdown",
   "metadata": {},
   "source": [
    "#### Linguistic Annotations"
   ]
  },
  {
   "cell_type": "markdown",
   "metadata": {},
   "source": [
    "Install first via command line: ** *python -m spacy download en_core_web_md* **\n",
    "\n",
    "Refer to: https://spacy.io/models/en#section-en_core_web_md"
   ]
  },
  {
   "cell_type": "code",
   "execution_count": 51,
   "metadata": {},
   "outputs": [
    {
     "name": "stdout",
     "output_type": "stream",
     "text": [
      "New PROPN compound\n",
      "York PROPN npadvmod\n",
      ": PUNCT punct\n",
      "Apple PROPN nsubj\n",
      "is VERB aux\n",
      "looking VERB ROOT\n",
      "at ADP prep\n",
      "buying VERB pcomp\n",
      "U.K. PROPN compound\n",
      "startup NOUN dobj\n",
      "for ADP prep\n",
      "$ SYM quantmod\n",
      "1 NUM compound\n",
      "billion NUM pobj\n"
     ]
    }
   ],
   "source": [
    "nlp = spacy.load('en_core_web_md')\n",
    "doc = nlp(u'New York: Apple is looking at buying U.K. startup for $1 billion')\n",
    "for token in doc:\n",
    "    print(token.text, token.pos_, token.dep_)"
   ]
  },
  {
   "cell_type": "code",
   "execution_count": 52,
   "metadata": {},
   "outputs": [
    {
     "data": {
      "text/plain": [
       "'proper noun'"
      ]
     },
     "execution_count": 52,
     "metadata": {},
     "output_type": "execute_result"
    }
   ],
   "source": [
    "spacy.explain('PROPN')"
   ]
  },
  {
   "cell_type": "code",
   "execution_count": 53,
   "metadata": {},
   "outputs": [
    {
     "data": {
      "text/plain": [
       "'noun phrase as adverbial modifier'"
      ]
     },
     "execution_count": 53,
     "metadata": {},
     "output_type": "execute_result"
    }
   ],
   "source": [
    "spacy.explain('npadvmod')"
   ]
  },
  {
   "cell_type": "markdown",
   "metadata": {},
   "source": [
    "#### Visualizing Dependencies"
   ]
  },
  {
   "cell_type": "code",
   "execution_count": 54,
   "metadata": {},
   "outputs": [
    {
     "data": {
      "text/html": [
       "<svg xmlns=\"http://www.w3.org/2000/svg\" xmlns:xlink=\"http://www.w3.org/1999/xlink\" id=\"240-0\" class=\"displacy\" width=\"1585\" height=\"317.0\" style=\"max-width: none; height: 317.0px; color: #000000; background: #ffffff; font-family: Arial\">\n",
       "<text class=\"displacy-token\" fill=\"currentColor\" text-anchor=\"middle\" y=\"227.0\">\n",
       "    <tspan class=\"displacy-word\" fill=\"currentColor\" x=\"25\">New</tspan>\n",
       "    <tspan class=\"displacy-tag\" dy=\"2em\" fill=\"currentColor\" x=\"25\">PROPN</tspan>\n",
       "</text>\n",
       "\n",
       "<text class=\"displacy-token\" fill=\"currentColor\" text-anchor=\"middle\" y=\"227.0\">\n",
       "    <tspan class=\"displacy-word\" fill=\"currentColor\" x=\"145\">York:</tspan>\n",
       "    <tspan class=\"displacy-tag\" dy=\"2em\" fill=\"currentColor\" x=\"145\">PROPN</tspan>\n",
       "</text>\n",
       "\n",
       "<text class=\"displacy-token\" fill=\"currentColor\" text-anchor=\"middle\" y=\"227.0\">\n",
       "    <tspan class=\"displacy-word\" fill=\"currentColor\" x=\"265\">Apple</tspan>\n",
       "    <tspan class=\"displacy-tag\" dy=\"2em\" fill=\"currentColor\" x=\"265\">PROPN</tspan>\n",
       "</text>\n",
       "\n",
       "<text class=\"displacy-token\" fill=\"currentColor\" text-anchor=\"middle\" y=\"227.0\">\n",
       "    <tspan class=\"displacy-word\" fill=\"currentColor\" x=\"385\">is</tspan>\n",
       "    <tspan class=\"displacy-tag\" dy=\"2em\" fill=\"currentColor\" x=\"385\">VERB</tspan>\n",
       "</text>\n",
       "\n",
       "<text class=\"displacy-token\" fill=\"currentColor\" text-anchor=\"middle\" y=\"227.0\">\n",
       "    <tspan class=\"displacy-word\" fill=\"currentColor\" x=\"505\">looking</tspan>\n",
       "    <tspan class=\"displacy-tag\" dy=\"2em\" fill=\"currentColor\" x=\"505\">VERB</tspan>\n",
       "</text>\n",
       "\n",
       "<text class=\"displacy-token\" fill=\"currentColor\" text-anchor=\"middle\" y=\"227.0\">\n",
       "    <tspan class=\"displacy-word\" fill=\"currentColor\" x=\"625\">at</tspan>\n",
       "    <tspan class=\"displacy-tag\" dy=\"2em\" fill=\"currentColor\" x=\"625\">ADP</tspan>\n",
       "</text>\n",
       "\n",
       "<text class=\"displacy-token\" fill=\"currentColor\" text-anchor=\"middle\" y=\"227.0\">\n",
       "    <tspan class=\"displacy-word\" fill=\"currentColor\" x=\"745\">buying</tspan>\n",
       "    <tspan class=\"displacy-tag\" dy=\"2em\" fill=\"currentColor\" x=\"745\">VERB</tspan>\n",
       "</text>\n",
       "\n",
       "<text class=\"displacy-token\" fill=\"currentColor\" text-anchor=\"middle\" y=\"227.0\">\n",
       "    <tspan class=\"displacy-word\" fill=\"currentColor\" x=\"865\">U.K.</tspan>\n",
       "    <tspan class=\"displacy-tag\" dy=\"2em\" fill=\"currentColor\" x=\"865\">PROPN</tspan>\n",
       "</text>\n",
       "\n",
       "<text class=\"displacy-token\" fill=\"currentColor\" text-anchor=\"middle\" y=\"227.0\">\n",
       "    <tspan class=\"displacy-word\" fill=\"currentColor\" x=\"985\">startup</tspan>\n",
       "    <tspan class=\"displacy-tag\" dy=\"2em\" fill=\"currentColor\" x=\"985\">NOUN</tspan>\n",
       "</text>\n",
       "\n",
       "<text class=\"displacy-token\" fill=\"currentColor\" text-anchor=\"middle\" y=\"227.0\">\n",
       "    <tspan class=\"displacy-word\" fill=\"currentColor\" x=\"1105\">for</tspan>\n",
       "    <tspan class=\"displacy-tag\" dy=\"2em\" fill=\"currentColor\" x=\"1105\">ADP</tspan>\n",
       "</text>\n",
       "\n",
       "<text class=\"displacy-token\" fill=\"currentColor\" text-anchor=\"middle\" y=\"227.0\">\n",
       "    <tspan class=\"displacy-word\" fill=\"currentColor\" x=\"1225\">$</tspan>\n",
       "    <tspan class=\"displacy-tag\" dy=\"2em\" fill=\"currentColor\" x=\"1225\">SYM</tspan>\n",
       "</text>\n",
       "\n",
       "<text class=\"displacy-token\" fill=\"currentColor\" text-anchor=\"middle\" y=\"227.0\">\n",
       "    <tspan class=\"displacy-word\" fill=\"currentColor\" x=\"1345\">1</tspan>\n",
       "    <tspan class=\"displacy-tag\" dy=\"2em\" fill=\"currentColor\" x=\"1345\">NUM</tspan>\n",
       "</text>\n",
       "\n",
       "<text class=\"displacy-token\" fill=\"currentColor\" text-anchor=\"middle\" y=\"227.0\">\n",
       "    <tspan class=\"displacy-word\" fill=\"currentColor\" x=\"1465\">billion</tspan>\n",
       "    <tspan class=\"displacy-tag\" dy=\"2em\" fill=\"currentColor\" x=\"1465\">NUM</tspan>\n",
       "</text>\n",
       "\n",
       "<g class=\"displacy-arrow\">\n",
       "    <path class=\"displacy-arc\" id=\"arrow-240-0-0\" stroke-width=\"2px\" d=\"M45,182.0 C45,122.0 135.0,122.0 135.0,182.0\" fill=\"none\" stroke=\"currentColor\"/>\n",
       "    <text dy=\"1.25em\" style=\"font-size: 0.8em; letter-spacing: 1px\">\n",
       "        <textPath xlink:href=\"#arrow-240-0-0\" class=\"displacy-label\" startOffset=\"50%\" fill=\"currentColor\" text-anchor=\"middle\">compound</textPath>\n",
       "    </text>\n",
       "    <path class=\"displacy-arrowhead\" d=\"M45,184.0 L37,172.0 53,172.0\" fill=\"currentColor\"/>\n",
       "</g>\n",
       "\n",
       "<g class=\"displacy-arrow\">\n",
       "    <path class=\"displacy-arc\" id=\"arrow-240-0-1\" stroke-width=\"2px\" d=\"M165,182.0 C165,2.0 505.0,2.0 505.0,182.0\" fill=\"none\" stroke=\"currentColor\"/>\n",
       "    <text dy=\"1.25em\" style=\"font-size: 0.8em; letter-spacing: 1px\">\n",
       "        <textPath xlink:href=\"#arrow-240-0-1\" class=\"displacy-label\" startOffset=\"50%\" fill=\"currentColor\" text-anchor=\"middle\">npadvmod</textPath>\n",
       "    </text>\n",
       "    <path class=\"displacy-arrowhead\" d=\"M165,184.0 L157,172.0 173,172.0\" fill=\"currentColor\"/>\n",
       "</g>\n",
       "\n",
       "<g class=\"displacy-arrow\">\n",
       "    <path class=\"displacy-arc\" id=\"arrow-240-0-2\" stroke-width=\"2px\" d=\"M285,182.0 C285,62.0 500.0,62.0 500.0,182.0\" fill=\"none\" stroke=\"currentColor\"/>\n",
       "    <text dy=\"1.25em\" style=\"font-size: 0.8em; letter-spacing: 1px\">\n",
       "        <textPath xlink:href=\"#arrow-240-0-2\" class=\"displacy-label\" startOffset=\"50%\" fill=\"currentColor\" text-anchor=\"middle\">nsubj</textPath>\n",
       "    </text>\n",
       "    <path class=\"displacy-arrowhead\" d=\"M285,184.0 L277,172.0 293,172.0\" fill=\"currentColor\"/>\n",
       "</g>\n",
       "\n",
       "<g class=\"displacy-arrow\">\n",
       "    <path class=\"displacy-arc\" id=\"arrow-240-0-3\" stroke-width=\"2px\" d=\"M405,182.0 C405,122.0 495.0,122.0 495.0,182.0\" fill=\"none\" stroke=\"currentColor\"/>\n",
       "    <text dy=\"1.25em\" style=\"font-size: 0.8em; letter-spacing: 1px\">\n",
       "        <textPath xlink:href=\"#arrow-240-0-3\" class=\"displacy-label\" startOffset=\"50%\" fill=\"currentColor\" text-anchor=\"middle\">aux</textPath>\n",
       "    </text>\n",
       "    <path class=\"displacy-arrowhead\" d=\"M405,184.0 L397,172.0 413,172.0\" fill=\"currentColor\"/>\n",
       "</g>\n",
       "\n",
       "<g class=\"displacy-arrow\">\n",
       "    <path class=\"displacy-arc\" id=\"arrow-240-0-4\" stroke-width=\"2px\" d=\"M525,182.0 C525,122.0 615.0,122.0 615.0,182.0\" fill=\"none\" stroke=\"currentColor\"/>\n",
       "    <text dy=\"1.25em\" style=\"font-size: 0.8em; letter-spacing: 1px\">\n",
       "        <textPath xlink:href=\"#arrow-240-0-4\" class=\"displacy-label\" startOffset=\"50%\" fill=\"currentColor\" text-anchor=\"middle\">prep</textPath>\n",
       "    </text>\n",
       "    <path class=\"displacy-arrowhead\" d=\"M615.0,184.0 L623.0,172.0 607.0,172.0\" fill=\"currentColor\"/>\n",
       "</g>\n",
       "\n",
       "<g class=\"displacy-arrow\">\n",
       "    <path class=\"displacy-arc\" id=\"arrow-240-0-5\" stroke-width=\"2px\" d=\"M645,182.0 C645,122.0 735.0,122.0 735.0,182.0\" fill=\"none\" stroke=\"currentColor\"/>\n",
       "    <text dy=\"1.25em\" style=\"font-size: 0.8em; letter-spacing: 1px\">\n",
       "        <textPath xlink:href=\"#arrow-240-0-5\" class=\"displacy-label\" startOffset=\"50%\" fill=\"currentColor\" text-anchor=\"middle\">pcomp</textPath>\n",
       "    </text>\n",
       "    <path class=\"displacy-arrowhead\" d=\"M735.0,184.0 L743.0,172.0 727.0,172.0\" fill=\"currentColor\"/>\n",
       "</g>\n",
       "\n",
       "<g class=\"displacy-arrow\">\n",
       "    <path class=\"displacy-arc\" id=\"arrow-240-0-6\" stroke-width=\"2px\" d=\"M885,182.0 C885,122.0 975.0,122.0 975.0,182.0\" fill=\"none\" stroke=\"currentColor\"/>\n",
       "    <text dy=\"1.25em\" style=\"font-size: 0.8em; letter-spacing: 1px\">\n",
       "        <textPath xlink:href=\"#arrow-240-0-6\" class=\"displacy-label\" startOffset=\"50%\" fill=\"currentColor\" text-anchor=\"middle\">compound</textPath>\n",
       "    </text>\n",
       "    <path class=\"displacy-arrowhead\" d=\"M885,184.0 L877,172.0 893,172.0\" fill=\"currentColor\"/>\n",
       "</g>\n",
       "\n",
       "<g class=\"displacy-arrow\">\n",
       "    <path class=\"displacy-arc\" id=\"arrow-240-0-7\" stroke-width=\"2px\" d=\"M765,182.0 C765,62.0 980.0,62.0 980.0,182.0\" fill=\"none\" stroke=\"currentColor\"/>\n",
       "    <text dy=\"1.25em\" style=\"font-size: 0.8em; letter-spacing: 1px\">\n",
       "        <textPath xlink:href=\"#arrow-240-0-7\" class=\"displacy-label\" startOffset=\"50%\" fill=\"currentColor\" text-anchor=\"middle\">dobj</textPath>\n",
       "    </text>\n",
       "    <path class=\"displacy-arrowhead\" d=\"M980.0,184.0 L988.0,172.0 972.0,172.0\" fill=\"currentColor\"/>\n",
       "</g>\n",
       "\n",
       "<g class=\"displacy-arrow\">\n",
       "    <path class=\"displacy-arc\" id=\"arrow-240-0-8\" stroke-width=\"2px\" d=\"M765,182.0 C765,2.0 1105.0,2.0 1105.0,182.0\" fill=\"none\" stroke=\"currentColor\"/>\n",
       "    <text dy=\"1.25em\" style=\"font-size: 0.8em; letter-spacing: 1px\">\n",
       "        <textPath xlink:href=\"#arrow-240-0-8\" class=\"displacy-label\" startOffset=\"50%\" fill=\"currentColor\" text-anchor=\"middle\">prep</textPath>\n",
       "    </text>\n",
       "    <path class=\"displacy-arrowhead\" d=\"M1105.0,184.0 L1113.0,172.0 1097.0,172.0\" fill=\"currentColor\"/>\n",
       "</g>\n",
       "\n",
       "<g class=\"displacy-arrow\">\n",
       "    <path class=\"displacy-arc\" id=\"arrow-240-0-9\" stroke-width=\"2px\" d=\"M1245,182.0 C1245,62.0 1460.0,62.0 1460.0,182.0\" fill=\"none\" stroke=\"currentColor\"/>\n",
       "    <text dy=\"1.25em\" style=\"font-size: 0.8em; letter-spacing: 1px\">\n",
       "        <textPath xlink:href=\"#arrow-240-0-9\" class=\"displacy-label\" startOffset=\"50%\" fill=\"currentColor\" text-anchor=\"middle\">quantmod</textPath>\n",
       "    </text>\n",
       "    <path class=\"displacy-arrowhead\" d=\"M1245,184.0 L1237,172.0 1253,172.0\" fill=\"currentColor\"/>\n",
       "</g>\n",
       "\n",
       "<g class=\"displacy-arrow\">\n",
       "    <path class=\"displacy-arc\" id=\"arrow-240-0-10\" stroke-width=\"2px\" d=\"M1365,182.0 C1365,122.0 1455.0,122.0 1455.0,182.0\" fill=\"none\" stroke=\"currentColor\"/>\n",
       "    <text dy=\"1.25em\" style=\"font-size: 0.8em; letter-spacing: 1px\">\n",
       "        <textPath xlink:href=\"#arrow-240-0-10\" class=\"displacy-label\" startOffset=\"50%\" fill=\"currentColor\" text-anchor=\"middle\">compound</textPath>\n",
       "    </text>\n",
       "    <path class=\"displacy-arrowhead\" d=\"M1365,184.0 L1357,172.0 1373,172.0\" fill=\"currentColor\"/>\n",
       "</g>\n",
       "\n",
       "<g class=\"displacy-arrow\">\n",
       "    <path class=\"displacy-arc\" id=\"arrow-240-0-11\" stroke-width=\"2px\" d=\"M1125,182.0 C1125,2.0 1465.0,2.0 1465.0,182.0\" fill=\"none\" stroke=\"currentColor\"/>\n",
       "    <text dy=\"1.25em\" style=\"font-size: 0.8em; letter-spacing: 1px\">\n",
       "        <textPath xlink:href=\"#arrow-240-0-11\" class=\"displacy-label\" startOffset=\"50%\" fill=\"currentColor\" text-anchor=\"middle\">pobj</textPath>\n",
       "    </text>\n",
       "    <path class=\"displacy-arrowhead\" d=\"M1465.0,184.0 L1473.0,172.0 1457.0,172.0\" fill=\"currentColor\"/>\n",
       "</g>\n",
       "</svg>"
      ],
      "text/plain": [
       "<IPython.core.display.HTML object>"
      ]
     },
     "metadata": {},
     "output_type": "display_data"
    }
   ],
   "source": [
    "#Option 1 \n",
    "from spacy import displacy\n",
    "\n",
    "displacy.render(doc, style='dep', jupyter=True, options={'distance': 120, 'offset_x': 25})"
   ]
  },
  {
   "cell_type": "code",
   "execution_count": 55,
   "metadata": {},
   "outputs": [
    {
     "data": {
      "text/html": [
       "<div class=\"entities\" style=\"line-height: 2.5\">\n",
       "<mark class=\"entity\" style=\"background: #feca74; padding: 0.45em 0.6em; margin: 0 0.25em; line-height: 1; border-radius: 0.35em; box-decoration-break: clone; -webkit-box-decoration-break: clone\">\n",
       "    New York\n",
       "    <span style=\"font-size: 0.8em; font-weight: bold; line-height: 1; border-radius: 0.35em; text-transform: uppercase; vertical-align: middle; margin-left: 0.5rem\">GPE</span>\n",
       "</mark>\n",
       ": \n",
       "<mark class=\"entity\" style=\"background: #7aecec; padding: 0.45em 0.6em; margin: 0 0.25em; line-height: 1; border-radius: 0.35em; box-decoration-break: clone; -webkit-box-decoration-break: clone\">\n",
       "    Apple\n",
       "    <span style=\"font-size: 0.8em; font-weight: bold; line-height: 1; border-radius: 0.35em; text-transform: uppercase; vertical-align: middle; margin-left: 0.5rem\">ORG</span>\n",
       "</mark>\n",
       " is looking at buying \n",
       "<mark class=\"entity\" style=\"background: #feca74; padding: 0.45em 0.6em; margin: 0 0.25em; line-height: 1; border-radius: 0.35em; box-decoration-break: clone; -webkit-box-decoration-break: clone\">\n",
       "    U.K.\n",
       "    <span style=\"font-size: 0.8em; font-weight: bold; line-height: 1; border-radius: 0.35em; text-transform: uppercase; vertical-align: middle; margin-left: 0.5rem\">GPE</span>\n",
       "</mark>\n",
       " startup for \n",
       "<mark class=\"entity\" style=\"background: #e4e7d2; padding: 0.45em 0.6em; margin: 0 0.25em; line-height: 1; border-radius: 0.35em; box-decoration-break: clone; -webkit-box-decoration-break: clone\">\n",
       "    $1 billion\n",
       "    <span style=\"font-size: 0.8em; font-weight: bold; line-height: 1; border-radius: 0.35em; text-transform: uppercase; vertical-align: middle; margin-left: 0.5rem\">MONEY</span>\n",
       "</mark>\n",
       "</div>"
      ],
      "text/plain": [
       "<IPython.core.display.HTML object>"
      ]
     },
     "metadata": {},
     "output_type": "display_data"
    }
   ],
   "source": [
    "displacy.render(doc, style='ent', jupyter=True)"
   ]
  },
  {
   "cell_type": "code",
   "execution_count": 56,
   "metadata": {},
   "outputs": [
    {
     "data": {
      "text/plain": [
       "'Countries, cities, states'"
      ]
     },
     "execution_count": 56,
     "metadata": {},
     "output_type": "execute_result"
    }
   ],
   "source": [
    "spacy.explain('GPE')"
   ]
  },
  {
   "cell_type": "markdown",
   "metadata": {},
   "source": [
    "### German? "
   ]
  },
  {
   "cell_type": "code",
   "execution_count": 57,
   "metadata": {},
   "outputs": [],
   "source": [
    "#Imports \n",
    "import spacy \n",
    "from spacy.lang.de import German\n",
    "\n",
    "nlp_de = German()"
   ]
  },
  {
   "cell_type": "code",
   "execution_count": 58,
   "metadata": {},
   "outputs": [
    {
     "name": "stdout",
     "output_type": "stream",
     "text": [
      "543\n"
     ]
    },
    {
     "data": {
      "text/plain": [
       "['gekannt',\n",
       " 'mir',\n",
       " 'währenddessen',\n",
       " 'diejenige',\n",
       " 'oben',\n",
       " 'tat',\n",
       " 'zehnten',\n",
       " 'offen']"
      ]
     },
     "execution_count": 58,
     "metadata": {},
     "output_type": "execute_result"
    }
   ],
   "source": [
    "#Stopwords \n",
    "from spacy.lang.de import STOP_WORDS\n",
    "\n",
    "stopwords_de = list(STOP_WORDS)\n",
    "print(len(stopwords_de))\n",
    "stopwords_de[:8]"
   ]
  },
  {
   "cell_type": "code",
   "execution_count": 59,
   "metadata": {},
   "outputs": [
    {
     "name": "stdout",
     "output_type": "stream",
     "text": [
      "konnte | die | eine | seit | \n",
      " -------------------------\n",
      "\n",
      "Inwiefern --> Lemma: Inwiefern | konnte --> Lemma: können | die --> Lemma: der | deutsche --> Lemma: deutsch | Bundesregierung --> Lemma: Bundesregierung | eine --> Lemma: einen | wirtschaftliche --> Lemma: wirtschaftlich | Trendwende --> Lemma: Trendwende | seit --> Lemma: seit | 2008 --> Lemma: 2008 | einleiten --> Lemma: einleiten | ? --> Lemma: ? | \n",
      " -------------------------\n",
      "\n",
      "Inwiefern  \n",
      "konnte  \n",
      "die  \n",
      "deutsche  \n",
      "Bundesregierung  \n",
      "eine  \n",
      "wirtschaftliche  \n",
      "Trendwende  \n",
      "seit  \n",
      "2008  \n",
      "einleiten  \n",
      "?  \n"
     ]
    }
   ],
   "source": [
    "doc = nlp_de(\"Inwiefern konnte die deutsche Bundesregierung eine wirtschaftliche Trendwende seit 2008 einleiten?\")\n",
    "\n",
    "#stopwords \n",
    "for word in doc: \n",
    "    if word.is_stop:\n",
    "        print(word.text, end=\" | \")\n",
    "print('\\n -------------------------\\n')\n",
    "      \n",
    "#lemmata \n",
    "for word in doc: \n",
    "    print(word.text, '--> Lemma:', word.lemma_, end=' | ')\n",
    "print('\\n -------------------------\\n')\n",
    "    \n",
    "#annotations (n/a if corresponding model not loaded)\n",
    "for token in doc:\n",
    "    print(token.text, token.pos_, token.dep_)"
   ]
  },
  {
   "cell_type": "markdown",
   "metadata": {},
   "source": [
    "### Embeddings with Spacy\n",
    "\n",
    "Refer to https://spacy.io/models/en#section-en_core_web_sm."
   ]
  },
  {
   "cell_type": "code",
   "execution_count": 60,
   "metadata": {},
   "outputs": [
    {
     "name": "stdout",
     "output_type": "stream",
     "text": [
      "New True 5.265908 False\n",
      "York True 6.940326 False\n",
      ": True 5.474056 False\n",
      "Apple True 7.1346846 False\n",
      "is True 4.890306 False\n",
      "looking True 5.4164834 False\n",
      "at True 6.0998254 False\n",
      "buying True 6.2184978 False\n",
      "U.K. True 6.626984 False\n",
      "startup True 6.779131 False\n",
      "for True 4.8435082 False\n",
      "$ True 7.748268 False\n",
      "1 True 5.269974 False\n",
      "billion True 8.310136 False\n"
     ]
    }
   ],
   "source": [
    "from spacy.tokens import Token\n",
    "\n",
    "#nlp = spacy.load('en_core_web_md')\n",
    "doc = nlp(u'New York: Apple is looking at buying U.K. startup for $1 billion')\n",
    "\n",
    "for token in doc:\n",
    "    print(token.text, token.has_vector, token.vector_norm, token.is_oov)"
   ]
  },
  {
   "cell_type": "code",
   "execution_count": 61,
   "metadata": {},
   "outputs": [
    {
     "name": "stdout",
     "output_type": "stream",
     "text": [
      "Demystifying True 6.245355 False\n",
      "crottles False 0.0 True\n",
      ": True 5.474056 False\n",
      "a True 5.306696 False\n",
      "lichen True 6.86926 False\n",
      "used True 5.209864 False\n",
      "in True 5.0929856 False\n",
      "Scotland True 7.1264977 False\n",
      "to True 4.74484 False\n",
      "make True 5.0838113 False\n",
      "a True 5.306696 False\n",
      "brownish True 6.80549 False\n",
      "dye True 7.085415 False\n",
      "for True 4.8435082 False\n",
      "wool True 7.6126904 False\n",
      ". True 4.9316354 False\n"
     ]
    }
   ],
   "source": [
    "doc = nlp(u'Demystifying crottles: a lichen used in Scotland to make a brownish dye for wool.')\n",
    "\n",
    "for token in doc:\n",
    "    print(token.text, token.has_vector, token.vector_norm, token.is_oov)"
   ]
  },
  {
   "cell_type": "markdown",
   "metadata": {},
   "source": [
    "#### Tryout 1a: Getting Synonyms via word vectors\n",
    "\n",
    "Slow implementation, see: https://github.com/explosion/spaCy/issues/276"
   ]
  },
  {
   "cell_type": "code",
   "execution_count": 62,
   "metadata": {},
   "outputs": [
    {
     "data": {
      "text/plain": [
       "<spacy.lexeme.Lexeme at 0x7f95426ff870>"
      ]
     },
     "execution_count": 62,
     "metadata": {},
     "output_type": "execute_result"
    }
   ],
   "source": [
    "nlp.vocab[u'dog']"
   ]
  },
  {
   "cell_type": "code",
   "execution_count": 63,
   "metadata": {},
   "outputs": [
    {
     "data": {
      "text/plain": [
       "['dog',\n",
       " 'kennel',\n",
       " 'canine',\n",
       " 'hound',\n",
       " 'canines',\n",
       " 'dogs',\n",
       " 'puppy',\n",
       " 'poodle',\n",
       " 'terrier',\n",
       " 'husky']"
      ]
     },
     "execution_count": 63,
     "metadata": {},
     "output_type": "execute_result"
    }
   ],
   "source": [
    "def most_similar(word):\n",
    "    queries = [w for w in word.vocab if w.is_lower == word.is_lower and w.prob >= -15]\n",
    "    by_similarity = sorted(queries, key=lambda w: word.similarity(w), reverse=True)\n",
    "    return by_similarity[:10]\n",
    "\n",
    "[w.lower_ for w in most_similar(nlp.vocab[u'dog'])]"
   ]
  },
  {
   "cell_type": "markdown",
   "metadata": {},
   "source": [
    "#### Tryout 1b: Getting Synonyms via Brown Clusters"
   ]
  },
  {
   "cell_type": "code",
   "execution_count": null,
   "metadata": {},
   "outputs": [],
   "source": [
    "#see link"
   ]
  },
  {
   "cell_type": "markdown",
   "metadata": {},
   "source": [
    "#### Tryout 2: Grasping Analogies "
   ]
  },
  {
   "cell_type": "code",
   "execution_count": 64,
   "metadata": {},
   "outputs": [],
   "source": [
    "doc = nlp(u'Paris France Rome Italy')\n",
    "similarities = {}\n",
    "for token1 in doc:\n",
    "    for token2 in doc:\n",
    "        similarities[str(token1) +'-'+ str(token2)] = token1.similarity(token2)"
   ]
  },
  {
   "cell_type": "code",
   "execution_count": 65,
   "metadata": {},
   "outputs": [
    {
     "data": {
      "text/plain": [
       "{'France-France': 1.0,\n",
       " 'France-Italy': 0.7207298,\n",
       " 'France-Paris': 0.7916327,\n",
       " 'France-Rome': 0.5515125,\n",
       " 'Italy-France': 0.7207298,\n",
       " 'Italy-Italy': 1.0,\n",
       " 'Italy-Paris': 0.58605415,\n",
       " 'Italy-Rome': 0.72202295,\n",
       " 'Paris-France': 0.7916327,\n",
       " 'Paris-Italy': 0.58605415,\n",
       " 'Paris-Paris': 1.0,\n",
       " 'Paris-Rome': 0.58241165,\n",
       " 'Rome-France': 0.5515125,\n",
       " 'Rome-Italy': 0.72202295,\n",
       " 'Rome-Paris': 0.58241165,\n",
       " 'Rome-Rome': 1.0}"
      ]
     },
     "execution_count": 65,
     "metadata": {},
     "output_type": "execute_result"
    }
   ],
   "source": [
    "similarities"
   ]
  },
  {
   "cell_type": "code",
   "execution_count": 66,
   "metadata": {
    "scrolled": true
   },
   "outputs": [
    {
     "name": "stdout",
     "output_type": "stream",
     "text": [
      "300\n"
     ]
    },
    {
     "data": {
      "text/plain": [
       "array([-0.21052  ,  0.18476  , -0.0056243, -0.15168  ,  0.78708  ],\n",
       "      dtype=float32)"
      ]
     },
     "execution_count": 66,
     "metadata": {},
     "output_type": "execute_result"
    }
   ],
   "source": [
    "italy_fake = doc[1].vector - doc[0].vector + doc[2].vector\n",
    "italy_real = doc[3].vector\n",
    "\n",
    "print(len(italy_real))\n",
    "italy_real[:5]"
   ]
  },
  {
   "cell_type": "code",
   "execution_count": 67,
   "metadata": {},
   "outputs": [
    {
     "data": {
      "text/plain": [
       "0.74263257"
      ]
     },
     "execution_count": 67,
     "metadata": {},
     "output_type": "execute_result"
    }
   ],
   "source": [
    "import numpy    \n",
    "\n",
    "#calculate cosine similarity\n",
    "numpy.dot(italy_fake, italy_real) / (numpy.linalg.norm(italy_fake) * numpy.linalg.norm(italy_real))"
   ]
  },
  {
   "cell_type": "code",
   "execution_count": 68,
   "metadata": {},
   "outputs": [
    {
     "data": {
      "text/plain": [
       "0.6"
      ]
     },
     "execution_count": 68,
     "metadata": {},
     "output_type": "execute_result"
    }
   ],
   "source": [
    "from scipy import spatial \n",
    "import numpy as np \n",
    "\n",
    "x = np.array([3,1])\n",
    "y = np.array([1,3])\n",
    "\n",
    "d = 1 - spatial.distance.cosine(x, y)\n",
    "d"
   ]
  },
  {
   "cell_type": "code",
   "execution_count": 29,
   "metadata": {},
   "outputs": [],
   "source": [
    "#load large model\n",
    "nlp = spacy.load('en_core_web_lg')\n",
    "\n",
    "class AnalogyFinder: \n",
    "    \n",
    "    def __init__(self, positive_1, positive_2, negative, top=20):\n",
    "        \n",
    "        self.positive_1 = nlp.vocab[positive_1].vector \n",
    "        self.positive_2 = nlp.vocab[positive_2].vector \n",
    "        self.negative = nlp.vocab[negative].vector \n",
    "        self.top = top \n",
    "        self.analogies = self.compute_analogy()\n",
    "\n",
    "    def compute_analogy(self):\n",
    "\n",
    "        calculated_output_word = self.positive_1 - self.negative + self.positive_2\n",
    "        cosine_similarity = lambda x, y: 1 - spatial.distance.cosine(x, y)\n",
    "        computed_similarities = []\n",
    " \n",
    "        for word in nlp.vocab:\n",
    "\n",
    "            # Ignore words without vectors\n",
    "            if not word.has_vector:\n",
    "                continue\n",
    "            \n",
    "            #go for lowercase\n",
    "            if word.is_lower:\n",
    "                similarity = cosine_similarity(calculated_output_word, word.vector)\n",
    "                computed_similarities.append((word, similarity))\n",
    "\n",
    "        computed_similarities = sorted(computed_similarities, key=lambda item: -item[1])\n",
    "        \n",
    "        self.analogies = [w[0].text for w in computed_similarities[:self.top]]\n",
    "        \n",
    "        return self.analogies"
   ]
  },
  {
   "cell_type": "markdown",
   "metadata": {},
   "source": [
    "**Let's play a little... the famous king example...**"
   ]
  },
  {
   "cell_type": "code",
   "execution_count": 30,
   "metadata": {
    "scrolled": true
   },
   "outputs": [
    {
     "data": {
      "text/plain": [
       "['king',\n",
       " 'kings',\n",
       " 'lord',\n",
       " 'prince',\n",
       " 'kingdom',\n",
       " 'throne',\n",
       " 'reign',\n",
       " 'mighty',\n",
       " 'princes',\n",
       " 'emperor',\n",
       " 'god',\n",
       " 'duke',\n",
       " 'thee',\n",
       " 'thou',\n",
       " 'lords',\n",
       " 'royal',\n",
       " 'hath',\n",
       " 'man',\n",
       " 'queen',\n",
       " 'beast']"
      ]
     },
     "execution_count": 30,
     "metadata": {},
     "output_type": "execute_result"
    }
   ],
   "source": [
    "maybe_queen = AnalogyFinder(\"man\",\"king\",\"woman\")\n",
    "maybe_queen.analogies"
   ]
  },
  {
   "cell_type": "code",
   "execution_count": 37,
   "metadata": {},
   "outputs": [
    {
     "data": {
      "text/plain": [
       "['king',\n",
       " 'queen',\n",
       " 'prince',\n",
       " 'kings',\n",
       " 'princess',\n",
       " 'royal',\n",
       " 'throne',\n",
       " 'queens',\n",
       " 'monarch',\n",
       " 'kingdom',\n",
       " 'empress',\n",
       " 'lady',\n",
       " 'woman',\n",
       " 'princes',\n",
       " 'mother',\n",
       " 'duke',\n",
       " 'emperor',\n",
       " 'reign',\n",
       " 'goddess',\n",
       " 'lord']"
      ]
     },
     "execution_count": 37,
     "metadata": {},
     "output_type": "execute_result"
    }
   ],
   "source": [
    "maybe_queen_2 = AnalogyFinder(\"woman\",\"king\",\"man\")\n",
    "maybe_queen_2.analogies"
   ]
  },
  {
   "cell_type": "markdown",
   "metadata": {},
   "source": [
    "**How about the aunts?**"
   ]
  },
  {
   "cell_type": "code",
   "execution_count": 31,
   "metadata": {},
   "outputs": [
    {
     "data": {
      "text/plain": [
       "['uncle',\n",
       " 'brother',\n",
       " 'nephew',\n",
       " 'grandfather',\n",
       " 'father',\n",
       " 'brother-in-law',\n",
       " 'dad',\n",
       " 'brothers',\n",
       " 'grandpa',\n",
       " 'uncles',\n",
       " 'father-in-law',\n",
       " 'bro',\n",
       " 'grandson',\n",
       " 'cousin',\n",
       " 'buddy',\n",
       " 'sons',\n",
       " 'granddad',\n",
       " 'son',\n",
       " 'grandad',\n",
       " 'man']"
      ]
     },
     "execution_count": 31,
     "metadata": {},
     "output_type": "execute_result"
    }
   ],
   "source": [
    "maybe_aunt = AnalogyFinder(\"man\",\"uncle\",\"woman\")\n",
    "maybe_aunt.analogies"
   ]
  },
  {
   "cell_type": "code",
   "execution_count": 38,
   "metadata": {},
   "outputs": [
    {
     "data": {
      "text/plain": [
       "['aunt',\n",
       " 'grandmother',\n",
       " 'mother',\n",
       " 'uncle',\n",
       " 'sister',\n",
       " 'wife',\n",
       " 'daughter',\n",
       " 'niece',\n",
       " 'husband',\n",
       " 'sister-in-law',\n",
       " 'mother-in-law',\n",
       " 'cousin',\n",
       " 'father',\n",
       " 'mom',\n",
       " 'grandfather',\n",
       " 'grandma',\n",
       " 'granddaughter',\n",
       " 'dad',\n",
       " 'stepfather',\n",
       " 'daughters']"
      ]
     },
     "execution_count": 38,
     "metadata": {},
     "output_type": "execute_result"
    }
   ],
   "source": [
    "maybe_aunt_2 = AnalogyFinder(\"woman\",\"uncle\",\"man\")\n",
    "maybe_aunt_2.analogies"
   ]
  },
  {
   "cell_type": "markdown",
   "metadata": {},
   "source": [
    "**E voilà, we get there... :)**"
   ]
  },
  {
   "cell_type": "code",
   "execution_count": 43,
   "metadata": {},
   "outputs": [
    {
     "data": {
      "text/plain": [
       "['walked',\n",
       " 'walk',\n",
       " 'strolled',\n",
       " 'wandered',\n",
       " 'walking',\n",
       " 'jogged',\n",
       " 'swam',\n",
       " 'drove',\n",
       " 'sprinted',\n",
       " 'stood',\n",
       " 'waited',\n",
       " 'biked',\n",
       " 'beside',\n",
       " 'stroll',\n",
       " 'walks',\n",
       " 'trekked',\n",
       " 'chased',\n",
       " 'trudged',\n",
       " 'rode',\n",
       " 'ambled']"
      ]
     },
     "execution_count": 43,
     "metadata": {},
     "output_type": "execute_result"
    }
   ],
   "source": [
    "maybe_walked = AnalogyFinder(\"swam\",\"walk\",\"swim\")\n",
    "maybe_walked.analogies"
   ]
  },
  {
   "cell_type": "code",
   "execution_count": 44,
   "metadata": {},
   "outputs": [
    {
     "data": {
      "text/plain": [
       "['rome',\n",
       " 'france',\n",
       " 'paris',\n",
       " 'lyon',\n",
       " 'europe',\n",
       " 'toulouse',\n",
       " 'french',\n",
       " 'roman',\n",
       " 'marseille',\n",
       " 'prague',\n",
       " 'romans',\n",
       " 'versailles',\n",
       " 'cannes',\n",
       " 'amsterdam',\n",
       " 'francais',\n",
       " 'berlin',\n",
       " 'montreal',\n",
       " 'quebec',\n",
       " 'eiffel',\n",
       " 'maison']"
      ]
     },
     "execution_count": 44,
     "metadata": {},
     "output_type": "execute_result"
    }
   ],
   "source": [
    "maybe_paris = AnalogyFinder(\"Rome\",\"France\",\"Italy\")\n",
    "maybe_paris.analogies"
   ]
  },
  {
   "cell_type": "markdown",
   "metadata": {},
   "source": [
    "**Pretty neat... :) However, choosing the 'stronger' word as negative one - i.e. 'man' instead of 'uncle'/'king', 'swim' instead of 'swam', 'Italy' instead of 'Rome' - turns out to be important!**"
   ]
  }
 ],
 "metadata": {
  "kernelspec": {
   "display_name": "Python 3",
   "language": "python",
   "name": "python3"
  },
  "language_info": {
   "codemirror_mode": {
    "name": "ipython",
    "version": 3
   },
   "file_extension": ".py",
   "mimetype": "text/x-python",
   "name": "python",
   "nbconvert_exporter": "python",
   "pygments_lexer": "ipython3",
   "version": "3.5.3"
  }
 },
 "nbformat": 4,
 "nbformat_minor": 2
}
